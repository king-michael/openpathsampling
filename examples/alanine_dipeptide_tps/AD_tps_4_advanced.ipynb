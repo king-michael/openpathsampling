{
 "cells": [
  {
   "cell_type": "code",
   "execution_count": 1,
   "metadata": {},
   "outputs": [],
   "source": [
    "%matplotlib inline\n",
    "import openpathsampling as paths\n",
    "import numpy as np\n",
    "import matplotlib.pyplot as plt\n",
    "import os\n",
    "import openpathsampling.visualize as ops_vis\n",
    "from IPython.display import SVG"
   ]
  },
  {
   "cell_type": "markdown",
   "metadata": {},
   "source": [
    "### Advanced analysis techniques\n",
    "\n",
    "Now we'll move on to a few more advanced analysis techniques. (These are discussed in Paper II.)\n",
    "\n",
    "With the fixed path length ensemble, we should check for recrossings. To do this, we create an ensemble which represents the recrossing paths: a frame in $\\beta$, possible frames in neither $\\alpha$ nor $\\beta$, and then a frame in $\\alpha$.\n",
    "\n",
    "Then we check whether any subtrajectory of a trial trajectory matches that ensemble, by using the `Ensemble.split()` function. We can then further refine to see which steps that included trials with recrossings were actually accepted."
   ]
  },
  {
   "cell_type": "code",
   "execution_count": 2,
   "metadata": {},
   "outputs": [
    {
     "name": "stdout",
     "output_type": "stream",
     "text": [
      "CPU times: user 11 s, sys: 1.87 s, total: 12.8 s\n",
      "Wall time: 1min 57s\n"
     ]
    }
   ],
   "source": [
    "%%time\n",
    "flexible = paths.Storage(\"tps_nc_files/alanine_dipeptide_tps.nc\")"
   ]
  },
  {
   "cell_type": "code",
   "execution_count": 3,
   "metadata": {},
   "outputs": [
    {
     "name": "stdout",
     "output_type": "stream",
     "text": [
      "CPU times: user 39.8 s, sys: 10.3 s, total: 50.1 s\n",
      "Wall time: 14min 25s\n"
     ]
    }
   ],
   "source": [
    "%%time\n",
    "fixed = paths.Storage(\"tps_nc_files/alanine_dipeptide_fixed_tps.nc\")"
   ]
  },
  {
   "cell_type": "code",
   "execution_count": 4,
   "metadata": {},
   "outputs": [],
   "source": [
    "flex_scheme = flexible.schemes[0]\n",
    "fixed_scheme = fixed.schemes[0]"
   ]
  },
  {
   "cell_type": "code",
   "execution_count": 5,
   "metadata": {},
   "outputs": [],
   "source": [
    "# TODO: cache trajectories too?"
   ]
  },
  {
   "cell_type": "code",
   "execution_count": 6,
   "metadata": {},
   "outputs": [],
   "source": [
    "# create the ensemble that identifies recrossings\n",
    "alpha = fixed.volumes.find('C_7eq')\n",
    "beta = fixed.volumes.find('alpha_R')\n",
    "recrossing_ensemble = paths.SequentialEnsemble([\n",
    "    paths.LengthEnsemble(1) & paths.AllInXEnsemble(beta),\n",
    "    paths.OptionalEnsemble(paths.AllOutXEnsemble(alpha | beta)),\n",
    "    paths.LengthEnsemble(1) & paths.AllInXEnsemble(alpha) \n",
    "])"
   ]
  },
  {
   "cell_type": "code",
   "execution_count": 7,
   "metadata": {},
   "outputs": [
    {
     "name": "stdout",
     "output_type": "stream",
     "text": [
      "CPU times: user 32min 45s, sys: 26.7 s, total: 33min 12s\n",
      "Wall time: 38min 8s\n"
     ]
    }
   ],
   "source": [
    "%%time\n",
    "# now we check each step to see if its trial has a recrossing\n",
    "steps_with_recrossing = []\n",
    "for step in fixed.steps:\n",
    "    # trials is a list of samples: with shooting, only one in the list\n",
    "    recrossings = [] # default for initial empty move (no trials in step[0].change)\n",
    "    for trial in step.change.trials:\n",
    "        recrossings = recrossing_ensemble.split(trial.trajectory)\n",
    "        # recrossing contains a list with the recrossing trajectories\n",
    "        # (len(recrossing) == 0 if no recrossings)\n",
    "    if len(recrossings) > 0:\n",
    "        steps_with_recrossing += [step]  # save for later analysis"
   ]
  },
  {
   "cell_type": "code",
   "execution_count": 8,
   "metadata": {},
   "outputs": [],
   "source": [
    "accepted_recrossings = [step for step in steps_with_recrossing if step.change.accepted is True]"
   ]
  },
  {
   "cell_type": "code",
   "execution_count": 9,
   "metadata": {},
   "outputs": [
    {
     "name": "stdout",
     "output_type": "stream",
     "text": [
      "Trials with recrossings: 493\n",
      "Accepted trials with recrossings: 109\n"
     ]
    }
   ],
   "source": [
    "print \"Trials with recrossings:\", len(steps_with_recrossing)\n",
    "print \"Accepted trials with recrossings:\", len(accepted_recrossings)"
   ]
  },
  {
   "cell_type": "markdown",
   "metadata": {},
   "source": [
    "Note that the accepted trials with recrossing does not account for how long the trial remained active. It also doesn't tell us whether the trial represented a new recrossing event, or was correlated with the previous recrossing event."
   ]
  },
  {
   "cell_type": "markdown",
   "metadata": {},
   "source": [
    "Let's take a look at one of the accepted trajectories with a recrossing event. We'll plot the value of $\\psi$, since this is what distinguishes the two states. We'll also select the frames that are actually inside each state and color them (red for $\\alpha$, blue for $\\beta$)."
   ]
  },
  {
   "cell_type": "code",
   "execution_count": 10,
   "metadata": {},
   "outputs": [
    {
     "data": {
      "text/plain": [
       "[<matplotlib.lines.Line2D at 0x10a5b7390>]"
      ]
     },
     "execution_count": 10,
     "metadata": {},
     "output_type": "execute_result"
    },
    {
     "data": {
      "image/png": "[encoded data removed]",
      "text/plain": [
       "<matplotlib.figure.Figure at 0x1b457c210>"
      ]
     },
     "metadata": {},
     "output_type": "display_data"
    }
   ],
   "source": [
    "psi = fixed.cvs.find('psi')\n",
    "trajectory = accepted_recrossings[0].active[0].trajectory\n",
    "in_alpha_indices = [trajectory.index(s) for s in trajectory if alpha(s)]\n",
    "in_alpha_psi = [psi(trajectory)[i] for i in in_alpha_indices]\n",
    "in_beta_indices = [trajectory.index(s) for s in trajectory if beta(s)]\n",
    "in_beta_psi = [psi(trajectory)[i] for i in in_beta_indices]\n",
    "\n",
    "plt.plot(psi(trajectory), 'k-')\n",
    "plt.plot(in_alpha_indices, in_alpha_psi, 'ro')  # alpha in red\n",
    "plt.plot(in_beta_indices, in_beta_psi, 'bo')  # beta in blue"
   ]
  },
  {
   "cell_type": "markdown",
   "metadata": {},
   "source": [
    "Now let's see how many recrossing events there are in each accepted trial. If there's one recrossing, then the trajectory must go $\\alpha\\to\\beta\\to\\alpha\\to\\beta$ to be accepted. Two recrossings would mean $\\alpha\\to\\beta\\to\\alpha\\to\\beta\\to\\alpha\\to\\beta$."
   ]
  },
  {
   "cell_type": "code",
   "execution_count": 11,
   "metadata": {},
   "outputs": [],
   "source": [
    "recrossings_per = []\n",
    "for step in accepted_recrossings:\n",
    "    for test in step.change.trials:\n",
    "        recrossings_per.append(len(recrossing_ensemble.split(test.trajectory)))"
   ]
  },
  {
   "cell_type": "code",
   "execution_count": 12,
   "metadata": {},
   "outputs": [
    {
     "name": "stdout",
     "output_type": "stream",
     "text": [
      "[1, 1, 1, 1, 1, 1, 1, 1, 1, 2, 2, 1, 1, 1, 1, 1, 2, 2, 1, 1, 1, 1, 2, 1, 1, 1, 1, 1, 1, 1, 1, 1, 1, 1, 1, 1, 1, 1, 1, 1, 1, 1, 1, 1, 1, 1, 1, 1, 1, 1, 1, 1, 1, 1, 1, 1, 1, 1, 1, 1, 1, 1, 1, 1, 1, 1, 1, 1, 1, 1, 1, 1, 1, 1, 1, 1, 1, 1, 1, 1, 1, 1, 1, 1, 1, 1, 1, 1, 1, 1, 1, 1, 1, 1, 1, 1, 1, 1, 1, 1, 1, 1, 1, 1, 1, 1, 1, 1, 1]\n"
     ]
    }
   ],
   "source": [
    "print recrossings_per"
   ]
  },
  {
   "cell_type": "code",
   "execution_count": 28,
   "metadata": {},
   "outputs": [
    {
     "name": "stdout",
     "output_type": "stream",
     "text": [
      "114\n",
      "109\n",
      "5\n"
     ]
    }
   ],
   "source": [
    "# these numbers come from accepted trial steps, not all steps\n",
    "print sum(recrossings_per)\n",
    "print len(recrossings_per)\n",
    "print len([x for x in recrossings_per if x==2])"
   ]
  },
  {
   "cell_type": "markdown",
   "metadata": {},
   "source": [
    "# Comparing the fixed and flexible simulations"
   ]
  },
  {
   "cell_type": "code",
   "execution_count": 13,
   "metadata": {},
   "outputs": [
    {
     "name": "stdout",
     "output_type": "stream",
     "text": [
      "CPU times: user 6h 8min 38s, sys: 2min 58s, total: 6h 11min 37s\n",
      "Wall time: 6h 33min 14s\n"
     ]
    }
   ],
   "source": [
    "%%time\n",
    "# transition path length distribution\n",
    "flex_ens = flex_scheme.network.sampling_ensembles[0]\n",
    "fixed_transition_segments = sum([flex_ens.split(step.active[0].trajectory) for step in fixed.steps],[])\n",
    "fixed_transition_length = [len(traj) for traj in fixed_transition_segments]"
   ]
  },
  {
   "cell_type": "code",
   "execution_count": 14,
   "metadata": {},
   "outputs": [],
   "source": [
    "flexible_transition_length = [len(s.active[0].trajectory) for s in flexible.steps]"
   ]
  },
  {
   "cell_type": "code",
   "execution_count": 15,
   "metadata": {},
   "outputs": [
    {
     "name": "stdout",
     "output_type": "stream",
     "text": [
      "10240\n"
     ]
    }
   ],
   "source": [
    "print len(fixed_transition_length)"
   ]
  },
  {
   "cell_type": "code",
   "execution_count": 16,
   "metadata": {},
   "outputs": [
    {
     "data": {
      "image/png": "[encoded data removed]",
      "text/plain": [
       "<matplotlib.figure.Figure at 0x1b4531690>"
      ]
     },
     "metadata": {},
     "output_type": "display_data"
    }
   ],
   "source": [
    "bins = np.linspace(0, 400, 80);\n",
    "plt.hist(flexible_transition_length, bins, alpha=0.5, normed=True, label=\"flexible\");\n",
    "plt.hist(fixed_transition_length, bins, alpha=0.5, normed=True, label=\"fixed\");\n",
    "plt.legend(loc='upper right');"
   ]
  },
  {
   "cell_type": "markdown",
   "metadata": {},
   "source": [
    "#### Identifying different mechanisms using custom ensembles\n",
    "\n",
    "We expected the plot above to be very similar for both cases. However, we know that the $\\alpha\\to\\beta$ transition in alanine dipeptide can occur via two mechanisms: since $\\psi$ is periodic, the transition can occur due to an overall increase in $\\psi$, or due to an overall decrease in $\\psi$. We also know that the alanine dipeptide transitions aren't actually all that rare, so they will occur spontaneously in long simulations.\n",
    "\n",
    "\n",
    "This section shows how to create custom ensembles to identify whether the transition occurred with an increasing $\\psi$ or a decreasing $\\psi$. We also need to account for (unlikely) edge cases where the path starts in one direction but completes the transition from the other."
   ]
  },
  {
   "cell_type": "markdown",
   "metadata": {},
   "source": [
    "First, we'll create a few more `Volume` objects. In this case, we will completely tile the Ramachandran space; while a complete tiling isn't necessary, it is often useful."
   ]
  },
  {
   "cell_type": "code",
   "execution_count": 17,
   "metadata": {},
   "outputs": [],
   "source": [
    "# first, we fully subdivide the Ramachandran space\n",
    "phi = fixed.cvs.find('phi')\n",
    "deg = 180.0/np.pi\n",
    "nml_plus = paths.PeriodicCVDefinedVolume(psi, -160/deg, -100/deg, -np.pi, np.pi)\n",
    "nml_minus = paths.PeriodicCVDefinedVolume(psi, 0/deg, 100/deg, -np.pi, np.pi)\n",
    "nml_alpha = (paths.PeriodicCVDefinedVolume(phi, 0/deg, 180/deg, -np.pi, np.pi) &\n",
    "             paths.PeriodicCVDefinedVolume(psi, 100/deg, 200/deg, -np.pi, np.pi))\n",
    "nml_beta = (paths.PeriodicCVDefinedVolume(phi, 0/deg, 180/deg, -np.pi, np.pi) &\n",
    "            paths.PeriodicCVDefinedVolume(psi, -100/deg, 0/deg, -np.pi, np.pi))"
   ]
  },
  {
   "cell_type": "code",
   "execution_count": 18,
   "metadata": {},
   "outputs": [],
   "source": [
    "#TODO: plot to display where these volumes are"
   ]
  },
  {
   "cell_type": "markdown",
   "metadata": {},
   "source": [
    "Next, we'll create ensembles for the \"increasing\" and \"decreasing\" transitions. These transitions mark a crossing of either the `nml_plus` or the `nml_minus`. These aren't necessarily $\\alpha\\to\\beta$ transitions. However, any $\\alpha\\to\\beta$ transition must contain at least one subtrajectory which satsifies one of these ensembles."
   ]
  },
  {
   "cell_type": "code",
   "execution_count": 19,
   "metadata": {},
   "outputs": [],
   "source": [
    "increasing = paths.SequentialEnsemble([\n",
    "    paths.AllInXEnsemble(alpha | nml_alpha),\n",
    "    paths.AllInXEnsemble(nml_plus),\n",
    "    paths.AllInXEnsemble(beta | nml_beta)\n",
    "])\n",
    "decreasing = paths.SequentialEnsemble([\n",
    "    paths.AllInXEnsemble(alpha | nml_alpha),\n",
    "    paths.AllInXEnsemble(nml_minus),\n",
    "    paths.AllInXEnsemble(beta | nml_beta)\n",
    "])"
   ]
  },
  {
   "cell_type": "markdown",
   "metadata": {},
   "source": [
    "Finally, we'll write a little function that characterizes a set of trajectories according to these ensembles. It returns a dictionary mapping the ensemble (`increasing` or `decreasing`) to a list of trajectories that have a subtrajectory that satisfies it (at least one entry in `ensemble.split(trajectory)`). That dictionary also contains keys for `'multiple'` matched ensembles and `None` if no ensemble was matched. Trajectories for either of these keys would need to be investigated further."
   ]
  },
  {
   "cell_type": "code",
   "execution_count": 20,
   "metadata": {},
   "outputs": [],
   "source": [
    "def categorize_transitions(ensembles, trajectories):\n",
    "    results = {ens : [] for ens in ensembles + ['multiple', None]}\n",
    "    for traj in trajectories:\n",
    "        matched_ens = None\n",
    "        for ens in ensembles:\n",
    "            if len(ens.split(traj)) > 0:\n",
    "                if matched_ens is not None:\n",
    "                    matched_ens = 'multiple'\n",
    "                else:\n",
    "                    matched_ens = ens\n",
    "        results[matched_ens].append(traj)\n",
    "    return results"
   ]
  },
  {
   "cell_type": "markdown",
   "metadata": {},
   "source": [
    "With that function defined, let's use it!"
   ]
  },
  {
   "cell_type": "code",
   "execution_count": 21,
   "metadata": {},
   "outputs": [],
   "source": [
    "categorized = categorize_transitions(ensembles=[increasing, decreasing],\n",
    "                                     trajectories=fixed_transition_segments)"
   ]
  },
  {
   "cell_type": "code",
   "execution_count": 22,
   "metadata": {},
   "outputs": [
    {
     "name": "stdout",
     "output_type": "stream",
     "text": [
      "increasing: 6670\n",
      "decreasing: 3570\n",
      "  multiple: 0\n",
      "      None: 0\n"
     ]
    }
   ],
   "source": [
    "print \"increasing:\", len(categorized[increasing])\n",
    "print \"decreasing:\", len(categorized[decreasing])\n",
    "print \"  multiple:\", len(categorized['multiple'])\n",
    "print \"      None:\", len(categorized[None])"
   ]
  },
  {
   "cell_type": "markdown",
   "metadata": {},
   "source": [
    "Comparing to the flexible length simulation:"
   ]
  },
  {
   "cell_type": "code",
   "execution_count": 23,
   "metadata": {},
   "outputs": [],
   "source": [
    "flex_trajs = [step.active[0].trajectory for step in flexible.steps]\n",
    "flex_categorized = categorize_transitions(ensembles=[increasing, decreasing],\n",
    "                                          trajectories=flex_trajs[::10])"
   ]
  },
  {
   "cell_type": "code",
   "execution_count": 24,
   "metadata": {},
   "outputs": [
    {
     "name": "stdout",
     "output_type": "stream",
     "text": [
      "increasing: 0\n",
      "decreasing: 1001\n",
      "  multiple: 0\n",
      "      None: 0\n"
     ]
    }
   ],
   "source": [
    "print \"increasing:\", len(flex_categorized[increasing])\n",
    "print \"decreasing:\", len(flex_categorized[decreasing])\n",
    "print \"  multiple:\", len(flex_categorized['multiple'])\n",
    "print \"      None:\", len(flex_categorized[None])"
   ]
  },
  {
   "cell_type": "markdown",
   "metadata": {},
   "source": [
    "So the fixed length sampling is somehow capturing both kinds of transitions (probably because they are not really that rare). Let's see what the path length distribution from only the decreasing transitions looks"
   ]
  },
  {
   "cell_type": "code",
   "execution_count": 25,
   "metadata": {},
   "outputs": [
    {
     "data": {
      "image/png": "[encoded data removed]",
      "text/plain": [
       "<matplotlib.figure.Figure at 0x1c4b2e050>"
      ]
     },
     "metadata": {},
     "output_type": "display_data"
    }
   ],
   "source": [
    "plt.hist([len(traj) for traj in flex_categorized[decreasing]], bins, alpha=0.5, normed=True);\n",
    "plt.hist([len(traj) for traj in categorized[decreasing]], bins, alpha=0.5, normed=True);"
   ]
  },
  {
   "cell_type": "markdown",
   "metadata": {},
   "source": [
    "Still a little off, although this might be due to bad sampling. Let's see how many of the decorrelated trajectories have this kind of transition."
   ]
  },
  {
   "cell_type": "code",
   "execution_count": 29,
   "metadata": {
    "collapsed": true
   },
   "outputs": [],
   "source": [
    "full_fixed_tree = ops_vis.PathTree(\n",
    "    fixed.steps,\n",
    "    ops_vis.ReplicaEvolution(replica=0)\n",
    ")\n",
    "full_history = full_fixed_tree.generator"
   ]
  },
  {
   "cell_type": "code",
   "execution_count": 30,
   "metadata": {},
   "outputs": [
    {
     "name": "stdout",
     "output_type": "stream",
     "text": [
      "115\n"
     ]
    }
   ],
   "source": [
    "# start with the decorrelated tragectories\n",
    "fixed_decorrelated = full_history.decorrelated_trajectories\n",
    "# find the A->B transitions from the decorrelated trajectories\n",
    "decorrelated_transitions = sum([flex_ens.split(traj) for traj in fixed_decorrelated], [])\n",
    "# find the A->B transition from these which are decreasing\n",
    "decorrelated_decreasing = sum([decreasing.split(traj) for traj in decorrelated_transitions], [])\n",
    "print len(decorrelated_decreasing)"
   ]
  },
  {
   "cell_type": "markdown",
   "metadata": {},
   "source": [
    "So this is based off of 11 decorrelated trajectory transitions. That's not a lot of statistics.\n",
    "\n",
    "However, we expect to see a *very* different distribution for the \"increasing\" paths:"
   ]
  },
  {
   "cell_type": "code",
   "execution_count": 31,
   "metadata": {},
   "outputs": [
    {
     "data": {
      "image/png": "[encoded data removed]",
      "text/plain": [
       "<matplotlib.figure.Figure at 0x378fa4bd0>"
      ]
     },
     "metadata": {},
     "output_type": "display_data"
    }
   ],
   "source": [
    "plt.hist([len(traj) for traj in categorized[increasing]], bins, normed=True, alpha=0.5, color='g');"
   ]
  },
  {
   "cell_type": "markdown",
   "metadata": {},
   "source": [
    "Let's also check whether we go back and forth between the increasing transition and the decreasing transition, or whether there's just a single change from one type to the other."
   ]
  },
  {
   "cell_type": "code",
   "execution_count": 32,
   "metadata": {
    "collapsed": true
   },
   "outputs": [],
   "source": [
    "def find_switches(ensembles, trajectories):\n",
    "    switches = []\n",
    "    last_category = None\n",
    "    traj_num = 0\n",
    "    for traj in trajectories:\n",
    "        category = None\n",
    "        for ens in ensembles:\n",
    "            if len(ens.split(traj)) > 0:\n",
    "                if category is not None:\n",
    "                    category = 'multiple'\n",
    "                else:\n",
    "                    category = ens\n",
    "        if last_category != category:\n",
    "            switches.append((category, traj_num))\n",
    "        traj_num += 1\n",
    "        last_category = category\n",
    "    return switches"
   ]
  },
  {
   "cell_type": "code",
   "execution_count": 33,
   "metadata": {
    "collapsed": true
   },
   "outputs": [],
   "source": [
    "switches = find_switches([increasing, decreasing], fixed_transition_segments)"
   ]
  },
  {
   "cell_type": "code",
   "execution_count": 34,
   "metadata": {},
   "outputs": [
    {
     "name": "stdout",
     "output_type": "stream",
     "text": [
      "[0, 14, 406, 443, 458, 512, 669, 784, 972, 986, 1010, 1136, 1672, 1984, 1998, 2018, 2115, 2154, 2379, 2519, 2682, 2743, 2930, 3038, 3090, 3093, 3307, 3339, 3538, 3884, 3974, 3981, 4255, 4332, 4370, 4560, 4825, 4884, 4885, 4886, 4887, 4888, 4988, 4998, 5027, 5105, 5370, 5414, 5533, 5638, 5657, 5701, 5752, 5761, 6124, 6151, 6322, 6634, 7042, 7114, 7441, 7494, 7521, 7584, 7767, 7839, 7944, 7950, 8321, 8414, 8615, 8719, 9610, 9611, 9972, 10055, 10106, 10175] 10230\n"
     ]
    }
   ],
   "source": [
    "print [switch[1] for switch in switches], len(fixed_transition_segments)"
   ]
  },
  {
   "cell_type": "markdown",
   "metadata": {},
   "source": [
    "So there are a lot of switches early in the simulation, and then it gets stuck in one state for much longer."
   ]
  },
  {
   "cell_type": "markdown",
   "metadata": {},
   "source": [
    "Even though we know the alanine dipeptide transitions are not particularly rare, this does give us reason to re-check the temperature. First we'll check what the intergrator says its temperature is, then we'll calculate the temperature based on the kinetic energy of every 50th trajectory.\n",
    "\n",
    "Note that the code below is specific to using the OpenMM engine."
   ]
  },
  {
   "cell_type": "code",
   "execution_count": 48,
   "metadata": {
    "collapsed": true
   },
   "outputs": [],
   "source": [
    "every_50th_trajectory = [step.active[0].trajectory for step in fixed.steps[::50]]"
   ]
  },
  {
   "cell_type": "code",
   "execution_count": 49,
   "metadata": {
    "collapsed": true
   },
   "outputs": [],
   "source": [
    "# make a set to remove duplicates, if trajs aren't decorrelated\n",
    "every_50th_traj_snapshots = list(set(sum(every_50th_trajectory, [])))\n",
    "# sadly, it looks like that trick with set doesn't do any good here"
   ]
  },
  {
   "cell_type": "code",
   "execution_count": 50,
   "metadata": {},
   "outputs": [
    {
     "name": "stderr",
     "output_type": "stream",
     "text": [
      "No handlers could be found for logger \"openpathsampling.engines.dynamics_engine\"\n"
     ]
    }
   ],
   "source": [
    "# this is ugly as sin: we need a better way of doing it (ideally as a snapshot feature)\n",
    "\n",
    "# dof calculation taken from OpenMM's StateDataReporter\n",
    "import simtk.openmm as mm\n",
    "import simtk.unit\n",
    "dof = 0\n",
    "system = engine.simulation.system\n",
    "dofs_from_particles = 0\n",
    "for i in range(system.getNumParticles()):\n",
    "    if system.getParticleMass(i) > 0*simtk.unit.dalton:\n",
    "        dofs_from_particles += 3\n",
    "dofs_from_constraints = system.getNumConstraints()\n",
    "dofs_from_motion_removers = 0\n",
    "if any(type(system.getForce(i)) == mm.CMMotionRemover for i in range(system.getNumForces())):\n",
    "    dofs_from_motion_removers += 3\n",
    "dof = dofs_from_particles - dofs_from_constraints - dofs_from_motion_removers\n",
    "#print dof, \"=\", dofs_from_particles, \"-\", dofs_from_constraints, \"-\", dofs_from_motion_removers\n",
    "\n",
    "kinetic_energies = []\n",
    "potential_energies = []\n",
    "temperatures = []\n",
    "R = simtk.unit.BOLTZMANN_CONSTANT_kB * simtk.unit.AVOGADRO_CONSTANT_NA\n",
    "for snap in every_50th_traj_snapshots:\n",
    "    engine.current_snapshot = snap\n",
    "    state = engine.simulation.context.getState(getEnergy=True)\n",
    "    ke = state.getKineticEnergy()\n",
    "    temperatures.append(2 * ke / dof / R)"
   ]
  },
  {
   "cell_type": "code",
   "execution_count": 51,
   "metadata": {},
   "outputs": [
    {
     "name": "stdout",
     "output_type": "stream",
     "text": [
      "Mean temperature: 300.33 K\n"
     ]
    },
    {
     "data": {
      "image/png": "[encoded data removed]",
      "text/plain": [
       "<matplotlib.figure.Figure at 0x38224ea10>"
      ]
     },
     "metadata": {},
     "output_type": "display_data"
    }
   ],
   "source": [
    "plt.plot([T / T.unit for T in temperatures])\n",
    "mean_T = np.mean(temperatures)\n",
    "plt.plot([mean_T / mean_T.unit]*len(temperatures), 'r')\n",
    "print \"Mean temperature:\", np.mean(temperatures).format(\"%.2f\")"
   ]
  }
 ],
 "metadata": {
  "kernelspec": {
   "display_name": "Python 2",
   "language": "python",
   "name": "python2"
  },
  "language_info": {
   "codemirror_mode": {
    "name": "ipython",
    "version": 2
   },
   "file_extension": ".py",
   "mimetype": "text/x-python",
   "name": "python",
   "nbconvert_exporter": "python",
   "pygments_lexer": "ipython2",
   "version": "2.7.15"
  }
 },
 "nbformat": 4,
 "nbformat_minor": 1
}
