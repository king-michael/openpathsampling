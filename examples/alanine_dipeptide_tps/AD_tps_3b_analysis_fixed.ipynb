{
 "cells": [
  {
   "cell_type": "code",
   "execution_count": 1,
   "metadata": {},
   "outputs": [],
   "source": [
    "%matplotlib inline\n",
    "import openpathsampling as paths\n",
    "import numpy as np\n",
    "import matplotlib.pyplot as plt\n",
    "import os\n",
    "import openpathsampling.visualize as ops_vis\n",
    "from IPython.display import SVG"
   ]
  },
  {
   "cell_type": "code",
   "execution_count": 2,
   "metadata": {},
   "outputs": [],
   "source": [
    "# note that this log will overwrite the log from the previous notebook\n",
    "import logging.config\n",
    "#logging.config.fileConfig(\"../resources/logging.conf\", disable_existing_loggers=False)\n",
    "logging.config.fileConfig(\"timed_logging.conf\", disable_existing_loggers=False)"
   ]
  },
  {
   "cell_type": "markdown",
   "metadata": {},
   "source": [
    "# Analyzing the fixed path length simulation\n",
    "\n",
    "We start with the same sorts of analysis as we did in the flexible path length example: we get an overview of the file, then we look at the acceptance ratio, and then we look at the move history tree and the decorrelated trajectories."
   ]
  },
  {
   "cell_type": "code",
   "execution_count": 3,
   "metadata": {},
   "outputs": [
    {
     "name": "stdout",
     "output_type": "stream",
     "text": [
      "CPU times: user 40.4 s, sys: 6.01 s, total: 46.5 s\n",
      "Wall time: 13min 3s\n"
     ]
    }
   ],
   "source": [
    "%%time\n",
    "fixed = paths.Storage(\"tps_nc_files/alanine_dipeptide_fixed_tps.nc\", 'r')"
   ]
  },
  {
   "cell_type": "code",
   "execution_count": 4,
   "metadata": {},
   "outputs": [
    {
     "name": "stdout",
     "output_type": "stream",
     "text": [
      "File size: 75.05GB for 10001 steps, 3988906 snapshots\n"
     ]
    }
   ],
   "source": [
    "engine = fixed.engines[0]\n",
    "fixed_scheme = fixed.schemes[0]\n",
    "\n",
    "print \"File size: {0} for {1} steps, {2} snapshots\".format(\n",
    "    fixed.file_size_str,\n",
    "    len(fixed.steps),\n",
    "    len(fixed.snapshots)\n",
    ")"
   ]
  },
  {
   "cell_type": "code",
   "execution_count": 5,
   "metadata": {},
   "outputs": [],
   "source": [
    "# rough estimate of total time\n",
    "#sum(step.change.details.timing for step in fixed.steps[1:])"
   ]
  },
  {
   "cell_type": "code",
   "execution_count": 6,
   "metadata": {},
   "outputs": [
    {
     "name": "stdout",
     "output_type": "stream",
     "text": [
      "shooting ran 100.000% (expected 100.00%) of the cycles with acceptance 5004/10000 (50.04%)\n"
     ]
    }
   ],
   "source": [
    "fixed_scheme.move_summary(fixed.steps)"
   ]
  },
  {
   "cell_type": "code",
   "execution_count": 7,
   "metadata": {},
   "outputs": [
    {
     "name": "stdout",
     "output_type": "stream",
     "text": [
      "17\n"
     ]
    },
    {
     "data": {
      "image/svg+xml": [
       "<svg baseProfile=\"full\" class=\"opstree\" height=\"100%\" id=\"pathtree-0\" version=\"1.1\" viewBox=\"-80.00 -22.50 2149.00 285.00\" width=\"100%\" xmlns=\"http://www.w3.org/2000/svg\" xmlns:ev=\"http://www.w3.org/2001/xml-events\" xmlns:xlink=\"http://www.w3.org/1999/xlink\"><defs><style type=\"text/css\"><![CDATA[.opstree text, .movetree text {\n",
       "    alignment-baseline: central;\n",
       "    font-size: 10px;\n",
       "    text-anchor: middle;\n",
       "    font-family: Futura-CondensedMedium;\n",
       "    font-weight: lighter;\n",
       "    stroke: none !important;\n",
       "}\n",
       ".opstree .block text, .movetree .block text {\n",
       "    alignment-baseline: central;\n",
       "    font-size: 8px;\n",
       "    text-anchor: middle;\n",
       "    font-family: Futura-CondensedMedium;\n",
       "    font-weight: lighter;\n",
       "    stroke: none !important;\n",
       "}\n",
       ".opstree text.shadow {\n",
       "    stroke-width: 3;\n",
       "    stroke: white !important;\n",
       "}\n",
       ".opstree .left.label .shift text {\n",
       "    text-anchor: end;\n",
       "}\n",
       ".opstree .right.label .shift text {\n",
       "    text-anchor: start;\n",
       "}\n",
       ".opstree .block text, .movetree .block text {\n",
       "    fill: white !important;\n",
       "    stroke: none !important;\n",
       "}\n",
       ".opstree .block {\n",
       "    stroke: none !important;\n",
       "}\n",
       ".opstree g.block:hover rect {\n",
       "    opacity: 0.5;\n",
       "}\n",
       ".opstree .repex {\n",
       "    fill: green;\n",
       "    stroke: green;\n",
       "}\n",
       ".opstree .extend {\n",
       "    fill: green;\n",
       "    stroke: green;\n",
       "}\n",
       ".opstree .truncate {\n",
       "    fill: green;\n",
       "    stroke: green;\n",
       "}\n",
       ".opstree .new {\n",
       "    fill: black;\n",
       "    stroke: black;\n",
       "}\n",
       ".opstree .unknown {\n",
       "    fill: gray;\n",
       "    stroke: gray;\n",
       "}\n",
       ".opstree .hop {\n",
       "    fill: green;\n",
       "    stroke: green;\n",
       "}\n",
       ".opstree .correlation {\n",
       "    fill: black;\n",
       "    stroke: black;\n",
       "}\n",
       ".opstree .shooting.bw {\n",
       "    fill: blue;\n",
       "    stroke: blue;\n",
       "}\n",
       ".opstree .shooting.fw {\n",
       "    fill: red;\n",
       "    stroke: red;\n",
       "}\n",
       ".opstree .shooting.overlap {\n",
       "    fill: #666;\n",
       "    stroke: #666;\n",
       "}\n",
       ".opstree .reversal {\n",
       "    fill: gold;\n",
       "    stroke: gold;\n",
       "}\n",
       ".opstree .virtual {\n",
       "    opacity: 0.1;\n",
       "    fill:gray;\n",
       "    stroke: none;\n",
       "}\n",
       ".opstree line {\n",
       "    stroke-width: 2px;\n",
       "}\n",
       ".opstree .label {\n",
       "    fill: black !important;\n",
       "}\n",
       ".opstree .h-connector {\n",
       "    stroke-width: 0.1px;\n",
       "    stroke-dasharray: 3 3;\n",
       "}\n",
       ".opstree .rejected {\n",
       "    opacity: 0.25;\n",
       "}\n",
       ".opstree .level {\n",
       "    opacity: 0.25;\n",
       "}\n",
       ".opstree .orange {\n",
       "    fill: orange;\n",
       "}\n",
       ".tableline {\n",
       "    fill: gray;\n",
       "    opacity: 0.0;\n",
       "}\n",
       ".tableline:hover {\n",
       "    opacity: 0.2;\n",
       "}\n",
       ".opstree .left.label g.shift {\n",
       "    transform: translateX(-6px);\n",
       "}\n",
       ".opstree .right.label g.shift {\n",
       "    transform: translateX(+6px);\n",
       "}\n",
       ".opstree .infobox text {\n",
       "    text-anchor: start;\n",
       "}\n",
       ".opstree .shade {\n",
       "    stroke: none;\n",
       "}\n",
       "\n",
       ".movetree .label .shift {\n",
       "    transform: translateX(-18px);\n",
       "}\n",
       "\n",
       ".movetree .label text {\n",
       "    text-anchor: end;\n",
       "}\n",
       ".movetree .v-connector {\n",
       "    stroke: black;\n",
       "}\n",
       ".movetree .v-hook {\n",
       "    stroke: black;\n",
       "}\n",
       ".movetree .h-connector {\n",
       "    stroke: black;\n",
       "}\n",
       ".movetree .ensembles .head .shift {\n",
       "    transform: translateY(0px) rotate(270deg) ;\n",
       "}\n",
       ".movetree .ensembles .head text {\n",
       "    text-anchor: start;\n",
       "}\n",
       ".movetree .connector.input {\n",
       "    fill: blue;\n",
       "}\n",
       ".movetree .connector.output {\n",
       "    fill: red;\n",
       "}\n",
       ".movetree .unknown {\n",
       "    fill: #aaa;\n",
       "    /*stroke: white;*/\n",
       "}\n",
       "]]></style></defs><g transform=\"scale(1.0)\"><g class=\"tree\" transform=\"translate(37,15)\"><g class=\"trajectory-label\"><g class=\"unknown left label\" transform=\"translate(0,0)\"><g class=\"shift\"><text x=\"0\" y=\"0\">+</text></g></g><g class=\"shooting left label\" transform=\"translate(0,15)\"><g class=\"shift\"><text x=\"0\" y=\"0\">B</text></g></g><g class=\"shooting right label\" transform=\"translate(1995,30)\"><g class=\"shift\"><text x=\"0\" y=\"0\">F</text></g></g><g class=\"shooting left label\" transform=\"translate(0,45)\"><g class=\"shift\"><text x=\"0\" y=\"0\">B</text></g></g><g class=\"shooting right label\" transform=\"translate(1995,60)\"><g class=\"shift\"><text x=\"0\" y=\"0\">F</text></g></g><g class=\"shooting left label\" transform=\"translate(0,75)\"><g class=\"shift\"><text x=\"0\" y=\"0\">B</text></g></g><g class=\"shooting right label\" transform=\"translate(1995,90)\"><g class=\"shift\"><text x=\"0\" y=\"0\">F</text></g></g><g class=\"shooting right label\" transform=\"translate(1995,105)\"><g class=\"shift\"><text x=\"0\" y=\"0\">F</text></g></g><g class=\"shooting left label\" transform=\"translate(0,120)\"><g class=\"shift\"><text x=\"0\" y=\"0\">B</text></g></g><g class=\"shooting left label\" transform=\"translate(0,135)\"><g class=\"shift\"><text x=\"0\" y=\"0\">B</text></g></g><g class=\"shooting right label\" transform=\"translate(1995,150)\"><g class=\"shift\"><text x=\"0\" y=\"0\">F</text></g></g><g class=\"shooting left label\" transform=\"translate(0,165)\"><g class=\"shift\"><text x=\"0\" y=\"0\">B</text></g></g><g class=\"shooting right label\" transform=\"translate(1995,180)\"><g class=\"shift\"><text x=\"0\" y=\"0\">F</text></g></g><g class=\"shooting right label\" transform=\"translate(1995,195)\"><g class=\"shift\"><text x=\"0\" y=\"0\">F</text></g></g><g class=\"shooting right label\" transform=\"translate(1995,210)\"><g class=\"shift\"><text x=\"0\" y=\"0\">F</text></g></g><g class=\"shooting right label\" transform=\"translate(1995,225)\"><g class=\"shift\"><text x=\"0\" y=\"0\">F</text></g></g><g class=\"shooting right label\" transform=\"translate(1995,240)\"><g class=\"shift\"><text x=\"0\" y=\"0\">F</text></g></g></g><g class=\"shooting-hooks\"><line class=\"shooting bw connection v-connector\" x1=\"817.5\" x2=\"817.5\" y1=\"0.0\" y2=\"15.0\"/><line class=\"shooting fw connection v-connector\" x1=\"1872.5\" x2=\"1872.5\" y1=\"0.0\" y2=\"30.0\"/><line class=\"shooting bw connection v-connector\" x1=\"57.5\" x2=\"57.5\" y1=\"15.0\" y2=\"45.0\"/><line class=\"shooting fw connection v-connector\" x1=\"1867.5\" x2=\"1867.5\" y1=\"0.0\" y2=\"60.0\"/><line class=\"shooting bw connection v-connector\" x1=\"842.5\" x2=\"842.5\" y1=\"0.0\" y2=\"75.0\"/><line class=\"shooting fw connection v-connector\" x1=\"1097.5\" x2=\"1097.5\" y1=\"0.0\" y2=\"90.0\"/><line class=\"shooting fw connection v-connector\" x1=\"1372.5\" x2=\"1372.5\" y1=\"90.0\" y2=\"105.0\"/><line class=\"shooting bw connection v-connector\" x1=\"322.5\" x2=\"322.5\" y1=\"75.0\" y2=\"120.0\"/><line class=\"shooting bw connection v-connector\" x1=\"1162.5\" x2=\"1162.5\" y1=\"90.0\" y2=\"135.0\"/><line class=\"shooting fw connection v-connector\" x1=\"1487.5\" x2=\"1487.5\" y1=\"105.0\" y2=\"150.0\"/><line class=\"shooting bw connection v-connector\" x1=\"532.5\" x2=\"532.5\" y1=\"135.0\" y2=\"165.0\"/><line class=\"shooting fw connection v-connector\" x1=\"1717.5\" x2=\"1717.5\" y1=\"150.0\" y2=\"180.0\"/><line class=\"shooting fw connection v-connector\" x1=\"1807.5\" x2=\"1807.5\" y1=\"180.0\" y2=\"195.0\"/><line class=\"shooting fw connection v-connector\" x1=\"1057.5\" x2=\"1057.5\" y1=\"135.0\" y2=\"210.0\"/><line class=\"shooting fw connection v-connector\" x1=\"1327.5\" x2=\"1327.5\" y1=\"210.0\" y2=\"225.0\"/><line class=\"shooting fw connection v-connector\" x1=\"1802.5\" x2=\"1802.5\" y1=\"225.0\" y2=\"240.0\"/></g><g class=\"snapshot-blocks\"><g class=\"unknown new block\"><rect height=\"9.0\" width=\"2000.0\" x=\"-2.5\" y=\"-4.5\"/><circle cx=\"1997.5\" cy=\"0\" r=\"0.0\"/><text x=\"997.5\" y=\"0\"/></g><g class=\"shooting bw block\"><rect height=\"9.0\" width=\"820.0\" x=\"-2.5\" y=\"10.5\"/><circle cx=\"817.5\" cy=\"15\" r=\"0.0\"/><text x=\"407.5\" y=\"15\"/></g><g class=\"shooting fw block\"><rect height=\"9.0\" width=\"125.0\" x=\"1872.5\" y=\"25.5\"/><circle cx=\"1997.5\" cy=\"30\" r=\"0.0\"/><text x=\"1935.0\" y=\"30\"/></g><g class=\"shooting bw block\"><rect height=\"9.0\" width=\"60.0\" x=\"-2.5\" y=\"40.5\"/><circle cx=\"57.5\" cy=\"45\" r=\"0.0\"/><text x=\"27.5\" y=\"45\"/></g><g class=\"shooting fw block\"><rect height=\"9.0\" width=\"130.0\" x=\"1867.5\" y=\"55.5\"/><circle cx=\"1997.5\" cy=\"60\" r=\"0.0\"/><text x=\"1932.5\" y=\"60\"/></g><g class=\"shooting bw block\"><rect height=\"9.0\" width=\"845.0\" x=\"-2.5\" y=\"70.5\"/><circle cx=\"842.5\" cy=\"75\" r=\"0.0\"/><text x=\"420.0\" y=\"75\"/></g><g class=\"shooting fw block\"><rect height=\"9.0\" width=\"900.0\" x=\"1097.5\" y=\"85.5\"/><circle cx=\"1997.5\" cy=\"90\" r=\"0.0\"/><text x=\"1547.5\" y=\"90\"/></g><g class=\"shooting fw block\"><rect height=\"9.0\" width=\"625.0\" x=\"1372.5\" y=\"100.5\"/><circle cx=\"1997.5\" cy=\"105\" r=\"0.0\"/><text x=\"1685.0\" y=\"105\"/></g><g class=\"shooting bw block\"><rect height=\"9.0\" width=\"325.0\" x=\"-2.5\" y=\"115.5\"/><circle cx=\"322.5\" cy=\"120\" r=\"0.0\"/><text x=\"160.0\" y=\"120\"/></g><g class=\"shooting bw block\"><rect height=\"9.0\" width=\"1165.0\" x=\"-2.5\" y=\"130.5\"/><circle cx=\"1162.5\" cy=\"135\" r=\"0.0\"/><text x=\"580.0\" y=\"135\"/></g><g class=\"shooting fw block\"><rect height=\"9.0\" width=\"510.0\" x=\"1487.5\" y=\"145.5\"/><circle cx=\"1997.5\" cy=\"150\" r=\"0.0\"/><text x=\"1742.5\" y=\"150\"/></g><g class=\"shooting bw block\"><rect height=\"9.0\" width=\"535.0\" x=\"-2.5\" y=\"160.5\"/><circle cx=\"532.5\" cy=\"165\" r=\"0.0\"/><text x=\"265.0\" y=\"165\"/></g><g class=\"shooting fw block\"><rect height=\"9.0\" width=\"280.0\" x=\"1717.5\" y=\"175.5\"/><circle cx=\"1997.5\" cy=\"180\" r=\"0.0\"/><text x=\"1857.5\" y=\"180\"/></g><g class=\"shooting fw block\"><rect height=\"9.0\" width=\"190.0\" x=\"1807.5\" y=\"190.5\"/><circle cx=\"1997.5\" cy=\"195\" r=\"0.0\"/><text x=\"1902.5\" y=\"195\"/></g><g class=\"shooting fw block\"><rect height=\"9.0\" width=\"940.0\" x=\"1057.5\" y=\"205.5\"/><circle cx=\"1997.5\" cy=\"210\" r=\"0.0\"/><text x=\"1527.5\" y=\"210\"/></g><g class=\"shooting fw block\"><rect height=\"9.0\" width=\"670.0\" x=\"1327.5\" y=\"220.5\"/><circle cx=\"1997.5\" cy=\"225\" r=\"0.0\"/><text x=\"1662.5\" y=\"225\"/></g><g class=\"shooting fw block\"><rect height=\"9.0\" width=\"195.0\" x=\"1802.5\" y=\"235.5\"/><circle cx=\"1997.5\" cy=\"240\" r=\"0.0\"/><text x=\"1900.0\" y=\"240\"/></g></g></g><g class=\"legend\"><g class=\"legend-correlation\" transform=\"translate(0)\"><g class=\"head label\" transform=\"translate(0,0)\"><g class=\"shift\"><text x=\"0\" y=\"0\">cor</text></g></g><g class=\"correlation v-region\"><line x1=\"0\" x2=\"0\" y1=\"7.5\" y2=\"142.5\"/><circle cx=\"0\" cy=\"7.5\" r=\"2.24\"/><line x1=\"-6.4\" x2=\"6.4\" y1=\"7.5\" y2=\"7.5\"/><circle cx=\"0\" cy=\"142.5\" r=\"2.24\"/><line x1=\"-6.4\" x2=\"6.4\" y1=\"142.5\" y2=\"142.5\"/><text x=\"-6.4\" y=\"75.0\"/></g><g class=\"correlation v-region\"><line x1=\"0\" x2=\"0\" y1=\"142.5\" y2=\"262.5\"/><circle cx=\"0\" cy=\"142.5\" r=\"2.24\"/><line x1=\"-6.4\" x2=\"6.4\" y1=\"142.5\" y2=\"142.5\"/><text x=\"-6.4\" y=\"202.5\"/></g></g><g class=\"legend-step\" transform=\"translate(-32)\"><g class=\"head label\" transform=\"translate(0,0)\"><g class=\"shift\"><text x=\"0\" y=\"0\">step</text></g></g><g class=\"label\" transform=\"translate(0,15)\"><g class=\"shift\"><text x=\"0\" y=\"0\">0</text></g></g><g class=\"label\" transform=\"translate(0,30)\"><g class=\"shift\"><text x=\"0\" y=\"0\">1</text></g></g><g class=\"label\" transform=\"translate(0,45)\"><g class=\"shift\"><text x=\"0\" y=\"0\">2</text></g></g><g class=\"label\" transform=\"translate(0,60)\"><g class=\"shift\"><text x=\"0\" y=\"0\">5</text></g></g><g class=\"label\" transform=\"translate(0,75)\"><g class=\"shift\"><text x=\"0\" y=\"0\">8</text></g></g><g class=\"label\" transform=\"translate(0,90)\"><g class=\"shift\"><text x=\"0\" y=\"0\">9</text></g></g><g class=\"label\" transform=\"translate(0,105)\"><g class=\"shift\"><text x=\"0\" y=\"0\">11</text></g></g><g class=\"label\" transform=\"translate(0,120)\"><g class=\"shift\"><text x=\"0\" y=\"0\">12</text></g></g><g class=\"label\" transform=\"translate(0,135)\"><g class=\"shift\"><text x=\"0\" y=\"0\">13</text></g></g><g class=\"label\" transform=\"translate(0,150)\"><g class=\"shift\"><text x=\"0\" y=\"0\">14</text></g></g><g class=\"label\" transform=\"translate(0,165)\"><g class=\"shift\"><text x=\"0\" y=\"0\">16</text></g></g><g class=\"label\" transform=\"translate(0,180)\"><g class=\"shift\"><text x=\"0\" y=\"0\">18</text></g></g><g class=\"label\" transform=\"translate(0,195)\"><g class=\"shift\"><text x=\"0\" y=\"0\">19</text></g></g><g class=\"label\" transform=\"translate(0,210)\"><g class=\"shift\"><text x=\"0\" y=\"0\">20</text></g></g><g class=\"label\" transform=\"translate(0,225)\"><g class=\"shift\"><text x=\"0\" y=\"0\">21</text></g></g><g class=\"label\" transform=\"translate(0,240)\"><g class=\"shift\"><text x=\"0\" y=\"0\">22</text></g></g><g class=\"label\" transform=\"translate(0,255)\"><g class=\"shift\"><text x=\"0\" y=\"0\">24</text></g></g></g></g><g class=\"hovering-blocks\"><rect class=\"tableline\" height=\"13.5\" width=\"2149.0\" x=\"-80.0\" y=\"8.25\"/><rect class=\"tableline\" height=\"13.5\" width=\"2149.0\" x=\"-80.0\" y=\"23.25\"/><rect class=\"tableline\" height=\"13.5\" width=\"2149.0\" x=\"-80.0\" y=\"38.25\"/><rect class=\"tableline\" height=\"13.5\" width=\"2149.0\" x=\"-80.0\" y=\"53.25\"/><rect class=\"tableline\" height=\"13.5\" width=\"2149.0\" x=\"-80.0\" y=\"68.25\"/><rect class=\"tableline\" height=\"13.5\" width=\"2149.0\" x=\"-80.0\" y=\"83.25\"/><rect class=\"tableline\" height=\"13.5\" width=\"2149.0\" x=\"-80.0\" y=\"98.25\"/><rect class=\"tableline\" height=\"13.5\" width=\"2149.0\" x=\"-80.0\" y=\"113.25\"/><rect class=\"tableline\" height=\"13.5\" width=\"2149.0\" x=\"-80.0\" y=\"128.25\"/><rect class=\"tableline\" height=\"13.5\" width=\"2149.0\" x=\"-80.0\" y=\"143.25\"/><rect class=\"tableline\" height=\"13.5\" width=\"2149.0\" x=\"-80.0\" y=\"158.25\"/><rect class=\"tableline\" height=\"13.5\" width=\"2149.0\" x=\"-80.0\" y=\"173.25\"/><rect class=\"tableline\" height=\"13.5\" width=\"2149.0\" x=\"-80.0\" y=\"188.25\"/><rect class=\"tableline\" height=\"13.5\" width=\"2149.0\" x=\"-80.0\" y=\"203.25\"/><rect class=\"tableline\" height=\"13.5\" width=\"2149.0\" x=\"-80.0\" y=\"218.25\"/><rect class=\"tableline\" height=\"13.5\" width=\"2149.0\" x=\"-80.0\" y=\"233.25\"/><rect class=\"tableline\" height=\"13.5\" width=\"2149.0\" x=\"-80.0\" y=\"248.25\"/></g></g></svg>"
      ],
      "text/plain": [
       "<IPython.core.display.SVG object>"
      ]
     },
     "execution_count": 7,
     "metadata": {},
     "output_type": "execute_result"
    }
   ],
   "source": [
    "history = ops_vis.PathTree(\n",
    "    fixed.steps[0:25],\n",
    "    ops_vis.ReplicaEvolution(\n",
    "        replica=0\n",
    "    )\n",
    ")\n",
    "print len(list(history.samples))\n",
    "\n",
    "SVG(history.svg())"
   ]
  },
  {
   "cell_type": "code",
   "execution_count": 8,
   "metadata": {},
   "outputs": [
    {
     "data": {
      "image/svg+xml": [
       "<svg baseProfile=\"full\" class=\"opstree\" height=\"100%\" id=\"pathtree-1\" version=\"1.1\" viewBox=\"-80.00 -22.50 545.00 285.00\" width=\"100%\" xmlns=\"http://www.w3.org/2000/svg\" xmlns:ev=\"http://www.w3.org/2001/xml-events\" xmlns:xlink=\"http://www.w3.org/1999/xlink\"><defs><style type=\"text/css\"><![CDATA[.opstree text, .movetree text {\n",
       "    alignment-baseline: central;\n",
       "    font-size: 10px;\n",
       "    text-anchor: middle;\n",
       "    font-family: Futura-CondensedMedium;\n",
       "    font-weight: lighter;\n",
       "    stroke: none !important;\n",
       "}\n",
       ".opstree .block text, .movetree .block text {\n",
       "    alignment-baseline: central;\n",
       "    font-size: 8px;\n",
       "    text-anchor: middle;\n",
       "    font-family: Futura-CondensedMedium;\n",
       "    font-weight: lighter;\n",
       "    stroke: none !important;\n",
       "}\n",
       ".opstree text.shadow {\n",
       "    stroke-width: 3;\n",
       "    stroke: white !important;\n",
       "}\n",
       ".opstree .left.label .shift text {\n",
       "    text-anchor: end;\n",
       "}\n",
       ".opstree .right.label .shift text {\n",
       "    text-anchor: start;\n",
       "}\n",
       ".opstree .block text, .movetree .block text {\n",
       "    fill: white !important;\n",
       "    stroke: none !important;\n",
       "}\n",
       ".opstree .block {\n",
       "    stroke: none !important;\n",
       "}\n",
       ".opstree g.block:hover rect {\n",
       "    opacity: 0.5;\n",
       "}\n",
       ".opstree .repex {\n",
       "    fill: green;\n",
       "    stroke: green;\n",
       "}\n",
       ".opstree .extend {\n",
       "    fill: green;\n",
       "    stroke: green;\n",
       "}\n",
       ".opstree .truncate {\n",
       "    fill: green;\n",
       "    stroke: green;\n",
       "}\n",
       ".opstree .new {\n",
       "    fill: black;\n",
       "    stroke: black;\n",
       "}\n",
       ".opstree .unknown {\n",
       "    fill: gray;\n",
       "    stroke: gray;\n",
       "}\n",
       ".opstree .hop {\n",
       "    fill: green;\n",
       "    stroke: green;\n",
       "}\n",
       ".opstree .correlation {\n",
       "    fill: black;\n",
       "    stroke: black;\n",
       "}\n",
       ".opstree .shooting.bw {\n",
       "    fill: blue;\n",
       "    stroke: blue;\n",
       "}\n",
       ".opstree .shooting.fw {\n",
       "    fill: red;\n",
       "    stroke: red;\n",
       "}\n",
       ".opstree .shooting.overlap {\n",
       "    fill: #666;\n",
       "    stroke: #666;\n",
       "}\n",
       ".opstree .reversal {\n",
       "    fill: gold;\n",
       "    stroke: gold;\n",
       "}\n",
       ".opstree .virtual {\n",
       "    opacity: 0.1;\n",
       "    fill:gray;\n",
       "    stroke: none;\n",
       "}\n",
       ".opstree line {\n",
       "    stroke-width: 2px;\n",
       "}\n",
       ".opstree .label {\n",
       "    fill: black !important;\n",
       "}\n",
       ".opstree .h-connector {\n",
       "    stroke-width: 0.1px;\n",
       "    stroke-dasharray: 3 3;\n",
       "}\n",
       ".opstree .rejected {\n",
       "    opacity: 0.25;\n",
       "}\n",
       ".opstree .level {\n",
       "    opacity: 0.25;\n",
       "}\n",
       ".opstree .orange {\n",
       "    fill: orange;\n",
       "}\n",
       ".tableline {\n",
       "    fill: gray;\n",
       "    opacity: 0.0;\n",
       "}\n",
       ".tableline:hover {\n",
       "    opacity: 0.2;\n",
       "}\n",
       ".opstree .left.label g.shift {\n",
       "    transform: translateX(-6px);\n",
       "}\n",
       ".opstree .right.label g.shift {\n",
       "    transform: translateX(+6px);\n",
       "}\n",
       ".opstree .infobox text {\n",
       "    text-anchor: start;\n",
       "}\n",
       ".opstree .shade {\n",
       "    stroke: none;\n",
       "}\n",
       "\n",
       ".movetree .label .shift {\n",
       "    transform: translateX(-18px);\n",
       "}\n",
       "\n",
       ".movetree .label text {\n",
       "    text-anchor: end;\n",
       "}\n",
       ".movetree .v-connector {\n",
       "    stroke: black;\n",
       "}\n",
       ".movetree .v-hook {\n",
       "    stroke: black;\n",
       "}\n",
       ".movetree .h-connector {\n",
       "    stroke: black;\n",
       "}\n",
       ".movetree .ensembles .head .shift {\n",
       "    transform: translateY(0px) rotate(270deg) ;\n",
       "}\n",
       ".movetree .ensembles .head text {\n",
       "    text-anchor: start;\n",
       "}\n",
       ".movetree .connector.input {\n",
       "    fill: blue;\n",
       "}\n",
       ".movetree .connector.output {\n",
       "    fill: red;\n",
       "}\n",
       ".movetree .unknown {\n",
       "    fill: #aaa;\n",
       "    /*stroke: white;*/\n",
       "}\n",
       "]]></style></defs><g transform=\"scale(1.0)\"><g class=\"tree\" transform=\"translate(33,15)\"><g class=\"trajectory-label\"><g class=\"unknown left label\" transform=\"translate(0,0)\"><g class=\"shift\"><text x=\"0\" y=\"0\">+</text></g></g><g class=\"shooting left label\" transform=\"translate(0,15)\"><g class=\"shift\"><text x=\"0\" y=\"0\">B</text></g></g><g class=\"shooting right label\" transform=\"translate(399,30)\"><g class=\"shift\"><text x=\"0\" y=\"0\">F</text></g></g><g class=\"shooting left label\" transform=\"translate(0,45)\"><g class=\"shift\"><text x=\"0\" y=\"0\">B</text></g></g><g class=\"shooting right label\" transform=\"translate(399,60)\"><g class=\"shift\"><text x=\"0\" y=\"0\">F</text></g></g><g class=\"shooting left label\" transform=\"translate(0,75)\"><g class=\"shift\"><text x=\"0\" y=\"0\">B</text></g></g><g class=\"shooting right label\" transform=\"translate(399,90)\"><g class=\"shift\"><text x=\"0\" y=\"0\">F</text></g></g><g class=\"shooting right label\" transform=\"translate(399,105)\"><g class=\"shift\"><text x=\"0\" y=\"0\">F</text></g></g><g class=\"shooting left label\" transform=\"translate(0,120)\"><g class=\"shift\"><text x=\"0\" y=\"0\">B</text></g></g><g class=\"shooting left label\" transform=\"translate(0,135)\"><g class=\"shift\"><text x=\"0\" y=\"0\">B</text></g></g><g class=\"shooting right label\" transform=\"translate(399,150)\"><g class=\"shift\"><text x=\"0\" y=\"0\">F</text></g></g><g class=\"shooting left label\" transform=\"translate(0,165)\"><g class=\"shift\"><text x=\"0\" y=\"0\">B</text></g></g><g class=\"shooting right label\" transform=\"translate(399,180)\"><g class=\"shift\"><text x=\"0\" y=\"0\">F</text></g></g><g class=\"shooting right label\" transform=\"translate(399,195)\"><g class=\"shift\"><text x=\"0\" y=\"0\">F</text></g></g><g class=\"shooting right label\" transform=\"translate(399,210)\"><g class=\"shift\"><text x=\"0\" y=\"0\">F</text></g></g><g class=\"shooting right label\" transform=\"translate(399,225)\"><g class=\"shift\"><text x=\"0\" y=\"0\">F</text></g></g><g class=\"shooting right label\" transform=\"translate(399,240)\"><g class=\"shift\"><text x=\"0\" y=\"0\">F</text></g></g></g><g class=\"shooting-hooks\"><line class=\"shooting bw connection v-connector\" x1=\"163.5\" x2=\"163.5\" y1=\"0.0\" y2=\"15.0\"/><line class=\"shooting fw connection v-connector\" x1=\"374.5\" x2=\"374.5\" y1=\"0.0\" y2=\"30.0\"/><line class=\"shooting bw connection v-connector\" x1=\"11.5\" x2=\"11.5\" y1=\"15.0\" y2=\"45.0\"/><line class=\"shooting fw connection v-connector\" x1=\"373.5\" x2=\"373.5\" y1=\"0.0\" y2=\"60.0\"/><line class=\"shooting bw connection v-connector\" x1=\"168.5\" x2=\"168.5\" y1=\"0.0\" y2=\"75.0\"/><line class=\"shooting fw connection v-connector\" x1=\"219.5\" x2=\"219.5\" y1=\"0.0\" y2=\"90.0\"/><line class=\"shooting fw connection v-connector\" x1=\"274.5\" x2=\"274.5\" y1=\"90.0\" y2=\"105.0\"/><line class=\"shooting bw connection v-connector\" x1=\"64.5\" x2=\"64.5\" y1=\"75.0\" y2=\"120.0\"/><line class=\"shooting bw connection v-connector\" x1=\"232.5\" x2=\"232.5\" y1=\"90.0\" y2=\"135.0\"/><line class=\"shooting fw connection v-connector\" x1=\"297.5\" x2=\"297.5\" y1=\"105.0\" y2=\"150.0\"/><line class=\"shooting bw connection v-connector\" x1=\"106.5\" x2=\"106.5\" y1=\"135.0\" y2=\"165.0\"/><line class=\"shooting fw connection v-connector\" x1=\"343.5\" x2=\"343.5\" y1=\"150.0\" y2=\"180.0\"/><line class=\"shooting fw connection v-connector\" x1=\"361.5\" x2=\"361.5\" y1=\"180.0\" y2=\"195.0\"/><line class=\"shooting fw connection v-connector\" x1=\"211.5\" x2=\"211.5\" y1=\"135.0\" y2=\"210.0\"/><line class=\"shooting fw connection v-connector\" x1=\"265.5\" x2=\"265.5\" y1=\"210.0\" y2=\"225.0\"/><line class=\"shooting fw connection v-connector\" x1=\"360.5\" x2=\"360.5\" y1=\"225.0\" y2=\"240.0\"/></g><g class=\"snapshot-blocks\"><g class=\"unknown new block\"><rect height=\"9.0\" width=\"400.0\" x=\"-0.5\" y=\"-4.5\"/><circle cx=\"399.5\" cy=\"0\" r=\"0.0\"/><text x=\"199.5\" y=\"0\"/></g><g class=\"shooting bw block\"><rect height=\"9.0\" width=\"164.0\" x=\"-0.5\" y=\"10.5\"/><circle cx=\"163.5\" cy=\"15\" r=\"0.0\"/><text x=\"81.5\" y=\"15\"/></g><g class=\"shooting fw block\"><rect height=\"9.0\" width=\"25.0\" x=\"374.5\" y=\"25.5\"/><circle cx=\"399.5\" cy=\"30\" r=\"0.0\"/><text x=\"387.0\" y=\"30\"/></g><g class=\"shooting bw block\"><rect height=\"9.0\" width=\"12.0\" x=\"-0.5\" y=\"40.5\"/><circle cx=\"11.5\" cy=\"45\" r=\"0.0\"/><text x=\"5.5\" y=\"45\"/></g><g class=\"shooting fw block\"><rect height=\"9.0\" width=\"26.0\" x=\"373.5\" y=\"55.5\"/><circle cx=\"399.5\" cy=\"60\" r=\"0.0\"/><text x=\"386.5\" y=\"60\"/></g><g class=\"shooting bw block\"><rect height=\"9.0\" width=\"169.0\" x=\"-0.5\" y=\"70.5\"/><circle cx=\"168.5\" cy=\"75\" r=\"0.0\"/><text x=\"84.0\" y=\"75\"/></g><g class=\"shooting fw block\"><rect height=\"9.0\" width=\"180.0\" x=\"219.5\" y=\"85.5\"/><circle cx=\"399.5\" cy=\"90\" r=\"0.0\"/><text x=\"309.5\" y=\"90\"/></g><g class=\"shooting fw block\"><rect height=\"9.0\" width=\"125.0\" x=\"274.5\" y=\"100.5\"/><circle cx=\"399.5\" cy=\"105\" r=\"0.0\"/><text x=\"337.0\" y=\"105\"/></g><g class=\"shooting bw block\"><rect height=\"9.0\" width=\"65.0\" x=\"-0.5\" y=\"115.5\"/><circle cx=\"64.5\" cy=\"120\" r=\"0.0\"/><text x=\"32.0\" y=\"120\"/></g><g class=\"shooting bw block\"><rect height=\"9.0\" width=\"233.0\" x=\"-0.5\" y=\"130.5\"/><circle cx=\"232.5\" cy=\"135\" r=\"0.0\"/><text x=\"116.0\" y=\"135\"/></g><g class=\"shooting fw block\"><rect height=\"9.0\" width=\"102.0\" x=\"297.5\" y=\"145.5\"/><circle cx=\"399.5\" cy=\"150\" r=\"0.0\"/><text x=\"348.5\" y=\"150\"/></g><g class=\"shooting bw block\"><rect height=\"9.0\" width=\"107.0\" x=\"-0.5\" y=\"160.5\"/><circle cx=\"106.5\" cy=\"165\" r=\"0.0\"/><text x=\"53.0\" y=\"165\"/></g><g class=\"shooting fw block\"><rect height=\"9.0\" width=\"56.0\" x=\"343.5\" y=\"175.5\"/><circle cx=\"399.5\" cy=\"180\" r=\"0.0\"/><text x=\"371.5\" y=\"180\"/></g><g class=\"shooting fw block\"><rect height=\"9.0\" width=\"38.0\" x=\"361.5\" y=\"190.5\"/><circle cx=\"399.5\" cy=\"195\" r=\"0.0\"/><text x=\"380.5\" y=\"195\"/></g><g class=\"shooting fw block\"><rect height=\"9.0\" width=\"188.0\" x=\"211.5\" y=\"205.5\"/><circle cx=\"399.5\" cy=\"210\" r=\"0.0\"/><text x=\"305.5\" y=\"210\"/></g><g class=\"shooting fw block\"><rect height=\"9.0\" width=\"134.0\" x=\"265.5\" y=\"220.5\"/><circle cx=\"399.5\" cy=\"225\" r=\"0.0\"/><text x=\"332.5\" y=\"225\"/></g><g class=\"shooting fw block\"><rect height=\"9.0\" width=\"39.0\" x=\"360.5\" y=\"235.5\"/><circle cx=\"399.5\" cy=\"240\" r=\"0.0\"/><text x=\"380.0\" y=\"240\"/></g></g></g><g class=\"legend\"><g class=\"legend-correlation\" transform=\"translate(0)\"><g class=\"head label\" transform=\"translate(0,0)\"><g class=\"shift\"><text x=\"0\" y=\"0\">cor</text></g></g><g class=\"correlation v-region\"><line x1=\"0\" x2=\"0\" y1=\"7.5\" y2=\"142.5\"/><circle cx=\"0\" cy=\"7.5\" r=\"2.24\"/><line x1=\"-6.4\" x2=\"6.4\" y1=\"7.5\" y2=\"7.5\"/><circle cx=\"0\" cy=\"142.5\" r=\"2.24\"/><line x1=\"-6.4\" x2=\"6.4\" y1=\"142.5\" y2=\"142.5\"/><text x=\"-6.4\" y=\"75.0\"/></g><g class=\"correlation v-region\"><line x1=\"0\" x2=\"0\" y1=\"142.5\" y2=\"262.5\"/><circle cx=\"0\" cy=\"142.5\" r=\"2.24\"/><line x1=\"-6.4\" x2=\"6.4\" y1=\"142.5\" y2=\"142.5\"/><text x=\"-6.4\" y=\"202.5\"/></g></g><g class=\"legend-step\" transform=\"translate(-32)\"><g class=\"head label\" transform=\"translate(0,0)\"><g class=\"shift\"><text x=\"0\" y=\"0\">step</text></g></g><g class=\"label\" transform=\"translate(0,15)\"><g class=\"shift\"><text x=\"0\" y=\"0\">0</text></g></g><g class=\"label\" transform=\"translate(0,30)\"><g class=\"shift\"><text x=\"0\" y=\"0\">1</text></g></g><g class=\"label\" transform=\"translate(0,45)\"><g class=\"shift\"><text x=\"0\" y=\"0\">2</text></g></g><g class=\"label\" transform=\"translate(0,60)\"><g class=\"shift\"><text x=\"0\" y=\"0\">5</text></g></g><g class=\"label\" transform=\"translate(0,75)\"><g class=\"shift\"><text x=\"0\" y=\"0\">8</text></g></g><g class=\"label\" transform=\"translate(0,90)\"><g class=\"shift\"><text x=\"0\" y=\"0\">9</text></g></g><g class=\"label\" transform=\"translate(0,105)\"><g class=\"shift\"><text x=\"0\" y=\"0\">11</text></g></g><g class=\"label\" transform=\"translate(0,120)\"><g class=\"shift\"><text x=\"0\" y=\"0\">12</text></g></g><g class=\"label\" transform=\"translate(0,135)\"><g class=\"shift\"><text x=\"0\" y=\"0\">13</text></g></g><g class=\"label\" transform=\"translate(0,150)\"><g class=\"shift\"><text x=\"0\" y=\"0\">14</text></g></g><g class=\"label\" transform=\"translate(0,165)\"><g class=\"shift\"><text x=\"0\" y=\"0\">16</text></g></g><g class=\"label\" transform=\"translate(0,180)\"><g class=\"shift\"><text x=\"0\" y=\"0\">18</text></g></g><g class=\"label\" transform=\"translate(0,195)\"><g class=\"shift\"><text x=\"0\" y=\"0\">19</text></g></g><g class=\"label\" transform=\"translate(0,210)\"><g class=\"shift\"><text x=\"0\" y=\"0\">20</text></g></g><g class=\"label\" transform=\"translate(0,225)\"><g class=\"shift\"><text x=\"0\" y=\"0\">21</text></g></g><g class=\"label\" transform=\"translate(0,240)\"><g class=\"shift\"><text x=\"0\" y=\"0\">22</text></g></g><g class=\"label\" transform=\"translate(0,255)\"><g class=\"shift\"><text x=\"0\" y=\"0\">24</text></g></g></g></g><g class=\"hovering-blocks\"><rect class=\"tableline\" height=\"13.5\" width=\"545.0\" x=\"-80.0\" y=\"8.25\"/><rect class=\"tableline\" height=\"13.5\" width=\"545.0\" x=\"-80.0\" y=\"23.25\"/><rect class=\"tableline\" height=\"13.5\" width=\"545.0\" x=\"-80.0\" y=\"38.25\"/><rect class=\"tableline\" height=\"13.5\" width=\"545.0\" x=\"-80.0\" y=\"53.25\"/><rect class=\"tableline\" height=\"13.5\" width=\"545.0\" x=\"-80.0\" y=\"68.25\"/><rect class=\"tableline\" height=\"13.5\" width=\"545.0\" x=\"-80.0\" y=\"83.25\"/><rect class=\"tableline\" height=\"13.5\" width=\"545.0\" x=\"-80.0\" y=\"98.25\"/><rect class=\"tableline\" height=\"13.5\" width=\"545.0\" x=\"-80.0\" y=\"113.25\"/><rect class=\"tableline\" height=\"13.5\" width=\"545.0\" x=\"-80.0\" y=\"128.25\"/><rect class=\"tableline\" height=\"13.5\" width=\"545.0\" x=\"-80.0\" y=\"143.25\"/><rect class=\"tableline\" height=\"13.5\" width=\"545.0\" x=\"-80.0\" y=\"158.25\"/><rect class=\"tableline\" height=\"13.5\" width=\"545.0\" x=\"-80.0\" y=\"173.25\"/><rect class=\"tableline\" height=\"13.5\" width=\"545.0\" x=\"-80.0\" y=\"188.25\"/><rect class=\"tableline\" height=\"13.5\" width=\"545.0\" x=\"-80.0\" y=\"203.25\"/><rect class=\"tableline\" height=\"13.5\" width=\"545.0\" x=\"-80.0\" y=\"218.25\"/><rect class=\"tableline\" height=\"13.5\" width=\"545.0\" x=\"-80.0\" y=\"233.25\"/><rect class=\"tableline\" height=\"13.5\" width=\"545.0\" x=\"-80.0\" y=\"248.25\"/></g></g></svg>"
      ],
      "text/plain": [
       "<IPython.core.display.SVG object>"
      ]
     },
     "execution_count": 8,
     "metadata": {},
     "output_type": "execute_result"
    }
   ],
   "source": [
    "history.options.css['scale_x'] = 1\n",
    "SVG(history.svg())"
   ]
  },
  {
   "cell_type": "code",
   "execution_count": 9,
   "metadata": {},
   "outputs": [],
   "source": [
    "with open(\"fixed_tps_tree.svg\", 'w') as svg_out:\n",
    "    svg_out.write(history.svg())"
   ]
  },
  {
   "cell_type": "code",
   "execution_count": 10,
   "metadata": {},
   "outputs": [
    {
     "name": "stdout",
     "output_type": "stream",
     "text": [
      "Decorrelated trajectories: 2\n"
     ]
    }
   ],
   "source": [
    "print \"Decorrelated trajectories:\", len(history.generator.decorrelated_trajectories)"
   ]
  },
  {
   "cell_type": "code",
   "execution_count": 11,
   "metadata": {},
   "outputs": [
    {
     "name": "stdout",
     "output_type": "stream",
     "text": [
      "All decorrelated trajectoriesL: 409\n"
     ]
    }
   ],
   "source": [
    "full_history = ops_vis.PathTree(\n",
    "    fixed.steps,\n",
    "    ops_vis.ReplicaEvolution(\n",
    "        replica=0\n",
    "    )\n",
    ")\n",
    "\n",
    "n_decorrelated = len(full_history.generator.decorrelated_trajectories)\n",
    "\n",
    "print \"All decorrelated trajectories:\", n_decorrelated"
   ]
  },
  {
   "cell_type": "markdown",
   "metadata": {},
   "source": [
    "Note that the number of MC steps (and even more so, time steps) per decorrelated trajectory is much higher than in the case of flexible path length TPS. This is the heart of the argument that flexible path length approaches are more efficient than fixed path length approaches: with a fixed path length, it takes much more effort to get a decorrelated trajectory."
   ]
  },
  {
   "cell_type": "code",
   "execution_count": null,
   "metadata": {},
   "outputs": [],
   "source": []
  }
 ],
 "metadata": {
  "kernelspec": {
   "display_name": "Python 2",
   "language": "python",
   "name": "python2"
  },
  "language_info": {
   "codemirror_mode": {
    "name": "ipython",
    "version": 2
   },
   "file_extension": ".py",
   "mimetype": "text/x-python",
   "name": "python",
   "nbconvert_exporter": "python",
   "pygments_lexer": "ipython2",
   "version": "2.7.15"
  }
 },
 "nbformat": 4,
 "nbformat_minor": 1
}
