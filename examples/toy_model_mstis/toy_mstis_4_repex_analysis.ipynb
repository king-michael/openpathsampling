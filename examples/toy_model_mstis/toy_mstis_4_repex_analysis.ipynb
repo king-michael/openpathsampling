{
 "cells": [
  {
   "cell_type": "code",
   "execution_count": 1,
   "metadata": {},
   "outputs": [],
   "source": [
    "%matplotlib inline\n",
    "import matplotlib.pyplot as plt\n",
    "import openpathsampling as paths\n",
    "import openpathsampling.storage as st"
   ]
  },
  {
   "cell_type": "code",
   "execution_count": 2,
   "metadata": {},
   "outputs": [],
   "source": [
    "#import logging.config\n",
    "#logging.config.fileConfig(\"../resources/logging.conf\", disable_existing_loggers=False)"
   ]
  },
  {
   "cell_type": "code",
   "execution_count": 3,
   "metadata": {},
   "outputs": [
    {
     "name": "stdout",
     "output_type": "stream",
     "text": [
      "CPU times: user 21.3 s, sys: 1.19 s, total: 22.5 s\n",
      "Wall time: 22.5 s\n"
     ]
    }
   ],
   "source": [
    "%%time\n",
    "storage = st.AnalysisStorage(\"mstis.nc\")"
   ]
  },
  {
   "cell_type": "code",
   "execution_count": 4,
   "metadata": {},
   "outputs": [
    {
     "data": {
      "text/plain": [
       "5001"
      ]
     },
     "execution_count": 4,
     "metadata": {},
     "output_type": "execute_result"
    }
   ],
   "source": [
    "len(storage.steps)"
   ]
  },
  {
   "cell_type": "code",
   "execution_count": 5,
   "metadata": {},
   "outputs": [],
   "source": [
    "mstis = storage.networks.load(0)\n",
    "retis = mstis.sampling_transitions[0]\n",
    "scheme = storage.schemes[0]"
   ]
  },
  {
   "cell_type": "markdown",
   "metadata": {},
   "source": [
    "### Defining labels\n",
    "\n",
    "Everything is actually done in terms of ensembles. We can map the ensembles to any labels. In our case, we use the initial replica ID associated with the ensemble. We use this as both the numeric and string label."
   ]
  },
  {
   "cell_type": "code",
   "execution_count": 6,
   "metadata": {},
   "outputs": [],
   "source": [
    "sset0 = storage.samplesets[0]\n",
    "numeric_labels = {s.ensemble : s.replica for s in sset0}\n",
    "string_labels = {s.ensemble : str(s.replica) for s in sset0}\n",
    "numeric_to_string = {numeric_labels[e] : string_labels[e] for e in numeric_labels.keys()}"
   ]
  },
  {
   "cell_type": "markdown",
   "metadata": {},
   "source": [
    "## Trace of ensemble visited by a replica\n",
    "\n",
    "In the plot below, you'll see we set the labels on the axis as sset0[e].replica, so we use the replica ID associated with the ensemble in the first timestep."
   ]
  },
  {
   "cell_type": "code",
   "execution_count": 7,
   "metadata": {},
   "outputs": [
    {
     "name": "stdout",
     "output_type": "stream",
     "text": [
      "CPU times: user 53.5 ms, sys: 1.89 ms, total: 55.3 ms\n",
      "Wall time: 60.7 ms\n"
     ]
    }
   ],
   "source": [
    "%%time\n",
    "trace_1 = paths.trace_ensembles_for_replica(0, storage.steps)"
   ]
  },
  {
   "cell_type": "code",
   "execution_count": 8,
   "metadata": {},
   "outputs": [
    {
     "data": {
      "text/plain": [
       "[<matplotlib.lines.Line2D at 0x113099dd0>]"
      ]
     },
     "execution_count": 8,
     "metadata": {},
     "output_type": "execute_result"
    },
    {
     "data": {
      "image/png": "[encoded data removed]",
      "text/plain": [
       "<matplotlib.figure.Figure at 0x10e44a190>"
      ]
     },
     "metadata": {},
     "output_type": "display_data"
    }
   ],
   "source": [
    "plt.plot([numeric_labels[e] for e in trace_1])"
   ]
  },
  {
   "cell_type": "markdown",
   "metadata": {},
   "source": [
    "### Replica flow"
   ]
  },
  {
   "cell_type": "code",
   "execution_count": 9,
   "metadata": {},
   "outputs": [
    {
     "name": "stdout",
     "output_type": "stream",
     "text": [
      "CPU times: user 277 ms, sys: 3.56 ms, total: 280 ms\n",
      "Wall time: 283 ms\n"
     ]
    }
   ],
   "source": [
    "%%time\n",
    "repx_net = paths.ReplicaNetwork(scheme, storage.steps)"
   ]
  },
  {
   "cell_type": "code",
   "execution_count": 10,
   "metadata": {},
   "outputs": [
    {
     "name": "stdout",
     "output_type": "stream",
     "text": [
      "{<openpathsampling.ensemble.MinusInterfaceEnsemble object at 0x10f30add0>: 1.0, <openpathsampling.ensemble.TISEnsemble object at 0x113740790>: 0.27507047925896094, <openpathsampling.ensemble.TISEnsemble object at 0x1137407d0>: 0.0, <openpathsampling.ensemble.TISEnsemble object at 0x113740f90>: 0.8509354254677127}\n",
      "CPU times: user 4.96 ms, sys: 437 µs, total: 5.4 ms\n",
      "Wall time: 5.26 ms\n"
     ]
    }
   ],
   "source": [
    "%%time\n",
    "flow = repx_net.flow(bottom=retis.minus_ensemble, top=retis.ensembles[-1],\n",
    "                     included_ensembles=[retis.minus_ensemble]+retis.ensembles)\n",
    "print(flow)"
   ]
  },
  {
   "cell_type": "code",
   "execution_count": 11,
   "metadata": {},
   "outputs": [
    {
     "name": "stdout",
     "output_type": "stream",
     "text": [
      "{8: 0.8509354254677127, 1: 0.0, -1: 1.0, 7: 0.27507047925896094}\n"
     ]
    }
   ],
   "source": [
    "flow_num = {numeric_labels[k] : flow[k] for k in flow.keys()}\n",
    "print(flow_num)"
   ]
  },
  {
   "cell_type": "code",
   "execution_count": 12,
   "metadata": {},
   "outputs": [],
   "source": [
    "sorted_vals = []\n",
    "for k in sorted(flow_num.keys()):\n",
    "    sorted_vals.append(flow_num[k])"
   ]
  },
  {
   "cell_type": "code",
   "execution_count": 13,
   "metadata": {},
   "outputs": [
    {
     "data": {
      "text/plain": [
       "[<matplotlib.lines.Line2D at 0x11befb290>]"
      ]
     },
     "execution_count": 13,
     "metadata": {},
     "output_type": "execute_result"
    },
    {
     "data": {
      "image/png": "[encoded data removed]",
      "text/plain": [
       "<matplotlib.figure.Figure at 0x10cf37fd0>"
      ]
     },
     "metadata": {},
     "output_type": "display_data"
    }
   ],
   "source": [
    "plt.plot(sorted(flow_num.keys()), sorted_vals)"
   ]
  },
  {
   "cell_type": "markdown",
   "metadata": {},
   "source": [
    "### Trips\n",
    "\n",
    "Now we calculate \"up\" trips, \"down\" trips, and round-trips."
   ]
  },
  {
   "cell_type": "code",
   "execution_count": 14,
   "metadata": {},
   "outputs": [
    {
     "name": "stderr",
     "output_type": "stream",
     "text": [
      "No handlers could be found for logger \"openpathsampling.analysis.replica_network\"\n"
     ]
    },
    {
     "data": {
      "text/plain": [
       "{'down': [174, 404, 257, 3141, 548, 2718],\n",
       " 'round': [1981, 2455, 687, 3159],\n",
       " 'up': [1807, 2051, 139, 441, 189]}"
      ]
     },
     "execution_count": 14,
     "metadata": {},
     "output_type": "execute_result"
    }
   ],
   "source": [
    "repx_net.trips(bottom=retis.minus_ensemble, top=retis.ensembles[-1])"
   ]
  },
  {
   "cell_type": "markdown",
   "metadata": {},
   "source": [
    "### Transition matrix\n",
    "\n",
    "The transition matrix is the (unsymmetrized) matrix of the transition probabilities. By default, it automatically sets its order from the Cuthill-McKee reverse ordering algorithm."
   ]
  },
  {
   "cell_type": "code",
   "execution_count": 15,
   "metadata": {},
   "outputs": [
    {
     "data": {
      "text/html": [
       "<style  type=\"text/css\" >\n",
       "</style>  \n",
       "<table id=\"T_62df7c0c_ecf5_11e7_95dd_f40f2429f757\" > \n",
       "<thead>    <tr> \n",
       "        <th class=\"blank level0\" ></th> \n",
       "        <th class=\"col_heading level0 col0\" >Out C minus</th> \n",
       "        <th class=\"col_heading level0 col1\" >Out A minus</th> \n",
       "        <th class=\"col_heading level0 col2\" >Out C 0</th> \n",
       "        <th class=\"col_heading level0 col3\" >Out A 0</th> \n",
       "        <th class=\"col_heading level0 col4\" >Out C 1</th> \n",
       "        <th class=\"col_heading level0 col5\" >Out A 1</th> \n",
       "        <th class=\"col_heading level0 col6\" >Out C 2</th> \n",
       "        <th class=\"col_heading level0 col7\" >Out A 2</th> \n",
       "        <th class=\"col_heading level0 col8\" >[UnionEnsemble]</th> \n",
       "        <th class=\"col_heading level0 col9\" >Out B 2</th> \n",
       "        <th class=\"col_heading level0 col10\" >Out B 1</th> \n",
       "        <th class=\"col_heading level0 col11\" >Out B 0</th> \n",
       "        <th class=\"col_heading level0 col12\" >Out B minus</th> \n",
       "    </tr></thead> \n",
       "<tbody>    <tr> \n",
       "        <th id=\"T_62df7c0c_ecf5_11e7_95dd_f40f2429f757level0_row0\" class=\"row_heading level0 row0\" >Out C minus</th> \n",
       "        <td id=\"T_62df7c0c_ecf5_11e7_95dd_f40f2429f757row0_col0\" class=\"data row0 col0\" >0</td> \n",
       "        <td id=\"T_62df7c0c_ecf5_11e7_95dd_f40f2429f757row0_col1\" class=\"data row0 col1\" >0</td> \n",
       "        <td id=\"T_62df7c0c_ecf5_11e7_95dd_f40f2429f757row0_col2\" class=\"data row0 col2\" >0.038674</td> \n",
       "        <td id=\"T_62df7c0c_ecf5_11e7_95dd_f40f2429f757row0_col3\" class=\"data row0 col3\" >0</td> \n",
       "        <td id=\"T_62df7c0c_ecf5_11e7_95dd_f40f2429f757row0_col4\" class=\"data row0 col4\" >0</td> \n",
       "        <td id=\"T_62df7c0c_ecf5_11e7_95dd_f40f2429f757row0_col5\" class=\"data row0 col5\" >0</td> \n",
       "        <td id=\"T_62df7c0c_ecf5_11e7_95dd_f40f2429f757row0_col6\" class=\"data row0 col6\" >0</td> \n",
       "        <td id=\"T_62df7c0c_ecf5_11e7_95dd_f40f2429f757row0_col7\" class=\"data row0 col7\" >0</td> \n",
       "        <td id=\"T_62df7c0c_ecf5_11e7_95dd_f40f2429f757row0_col8\" class=\"data row0 col8\" >0</td> \n",
       "        <td id=\"T_62df7c0c_ecf5_11e7_95dd_f40f2429f757row0_col9\" class=\"data row0 col9\" >0</td> \n",
       "        <td id=\"T_62df7c0c_ecf5_11e7_95dd_f40f2429f757row0_col10\" class=\"data row0 col10\" >0</td> \n",
       "        <td id=\"T_62df7c0c_ecf5_11e7_95dd_f40f2429f757row0_col11\" class=\"data row0 col11\" >0</td> \n",
       "        <td id=\"T_62df7c0c_ecf5_11e7_95dd_f40f2429f757row0_col12\" class=\"data row0 col12\" >0</td> \n",
       "    </tr>    <tr> \n",
       "        <th id=\"T_62df7c0c_ecf5_11e7_95dd_f40f2429f757level0_row1\" class=\"row_heading level0 row1\" >Out A minus</th> \n",
       "        <td id=\"T_62df7c0c_ecf5_11e7_95dd_f40f2429f757row1_col0\" class=\"data row1 col0\" >0</td> \n",
       "        <td id=\"T_62df7c0c_ecf5_11e7_95dd_f40f2429f757row1_col1\" class=\"data row1 col1\" >0</td> \n",
       "        <td id=\"T_62df7c0c_ecf5_11e7_95dd_f40f2429f757row1_col2\" class=\"data row1 col2\" >0</td> \n",
       "        <td id=\"T_62df7c0c_ecf5_11e7_95dd_f40f2429f757row1_col3\" class=\"data row1 col3\" >0.0370955</td> \n",
       "        <td id=\"T_62df7c0c_ecf5_11e7_95dd_f40f2429f757row1_col4\" class=\"data row1 col4\" >0</td> \n",
       "        <td id=\"T_62df7c0c_ecf5_11e7_95dd_f40f2429f757row1_col5\" class=\"data row1 col5\" >0</td> \n",
       "        <td id=\"T_62df7c0c_ecf5_11e7_95dd_f40f2429f757row1_col6\" class=\"data row1 col6\" >0</td> \n",
       "        <td id=\"T_62df7c0c_ecf5_11e7_95dd_f40f2429f757row1_col7\" class=\"data row1 col7\" >0</td> \n",
       "        <td id=\"T_62df7c0c_ecf5_11e7_95dd_f40f2429f757row1_col8\" class=\"data row1 col8\" >0</td> \n",
       "        <td id=\"T_62df7c0c_ecf5_11e7_95dd_f40f2429f757row1_col9\" class=\"data row1 col9\" >0</td> \n",
       "        <td id=\"T_62df7c0c_ecf5_11e7_95dd_f40f2429f757row1_col10\" class=\"data row1 col10\" >0</td> \n",
       "        <td id=\"T_62df7c0c_ecf5_11e7_95dd_f40f2429f757row1_col11\" class=\"data row1 col11\" >0</td> \n",
       "        <td id=\"T_62df7c0c_ecf5_11e7_95dd_f40f2429f757row1_col12\" class=\"data row1 col12\" >0</td> \n",
       "    </tr>    <tr> \n",
       "        <th id=\"T_62df7c0c_ecf5_11e7_95dd_f40f2429f757level0_row2\" class=\"row_heading level0 row2\" >Out C 0</th> \n",
       "        <td id=\"T_62df7c0c_ecf5_11e7_95dd_f40f2429f757row2_col0\" class=\"data row2 col0\" >0.038674</td> \n",
       "        <td id=\"T_62df7c0c_ecf5_11e7_95dd_f40f2429f757row2_col1\" class=\"data row2 col1\" >0</td> \n",
       "        <td id=\"T_62df7c0c_ecf5_11e7_95dd_f40f2429f757row2_col2\" class=\"data row2 col2\" >0</td> \n",
       "        <td id=\"T_62df7c0c_ecf5_11e7_95dd_f40f2429f757row2_col3\" class=\"data row2 col3\" >0</td> \n",
       "        <td id=\"T_62df7c0c_ecf5_11e7_95dd_f40f2429f757row2_col4\" class=\"data row2 col4\" >0.0205209</td> \n",
       "        <td id=\"T_62df7c0c_ecf5_11e7_95dd_f40f2429f757row2_col5\" class=\"data row2 col5\" >0</td> \n",
       "        <td id=\"T_62df7c0c_ecf5_11e7_95dd_f40f2429f757row2_col6\" class=\"data row2 col6\" >0</td> \n",
       "        <td id=\"T_62df7c0c_ecf5_11e7_95dd_f40f2429f757row2_col7\" class=\"data row2 col7\" >0</td> \n",
       "        <td id=\"T_62df7c0c_ecf5_11e7_95dd_f40f2429f757row2_col8\" class=\"data row2 col8\" >0</td> \n",
       "        <td id=\"T_62df7c0c_ecf5_11e7_95dd_f40f2429f757row2_col9\" class=\"data row2 col9\" >0</td> \n",
       "        <td id=\"T_62df7c0c_ecf5_11e7_95dd_f40f2429f757row2_col10\" class=\"data row2 col10\" >0</td> \n",
       "        <td id=\"T_62df7c0c_ecf5_11e7_95dd_f40f2429f757row2_col11\" class=\"data row2 col11\" >0</td> \n",
       "        <td id=\"T_62df7c0c_ecf5_11e7_95dd_f40f2429f757row2_col12\" class=\"data row2 col12\" >0</td> \n",
       "    </tr>    <tr> \n",
       "        <th id=\"T_62df7c0c_ecf5_11e7_95dd_f40f2429f757level0_row3\" class=\"row_heading level0 row3\" >Out A 0</th> \n",
       "        <td id=\"T_62df7c0c_ecf5_11e7_95dd_f40f2429f757row3_col0\" class=\"data row3 col0\" >0</td> \n",
       "        <td id=\"T_62df7c0c_ecf5_11e7_95dd_f40f2429f757row3_col1\" class=\"data row3 col1\" >0.0370955</td> \n",
       "        <td id=\"T_62df7c0c_ecf5_11e7_95dd_f40f2429f757row3_col2\" class=\"data row3 col2\" >0</td> \n",
       "        <td id=\"T_62df7c0c_ecf5_11e7_95dd_f40f2429f757row3_col3\" class=\"data row3 col3\" >0</td> \n",
       "        <td id=\"T_62df7c0c_ecf5_11e7_95dd_f40f2429f757row3_col4\" class=\"data row3 col4\" >0</td> \n",
       "        <td id=\"T_62df7c0c_ecf5_11e7_95dd_f40f2429f757row3_col5\" class=\"data row3 col5\" >0.0205209</td> \n",
       "        <td id=\"T_62df7c0c_ecf5_11e7_95dd_f40f2429f757row3_col6\" class=\"data row3 col6\" >0</td> \n",
       "        <td id=\"T_62df7c0c_ecf5_11e7_95dd_f40f2429f757row3_col7\" class=\"data row3 col7\" >0</td> \n",
       "        <td id=\"T_62df7c0c_ecf5_11e7_95dd_f40f2429f757row3_col8\" class=\"data row3 col8\" >0</td> \n",
       "        <td id=\"T_62df7c0c_ecf5_11e7_95dd_f40f2429f757row3_col9\" class=\"data row3 col9\" >0</td> \n",
       "        <td id=\"T_62df7c0c_ecf5_11e7_95dd_f40f2429f757row3_col10\" class=\"data row3 col10\" >0</td> \n",
       "        <td id=\"T_62df7c0c_ecf5_11e7_95dd_f40f2429f757row3_col11\" class=\"data row3 col11\" >0</td> \n",
       "        <td id=\"T_62df7c0c_ecf5_11e7_95dd_f40f2429f757row3_col12\" class=\"data row3 col12\" >0</td> \n",
       "    </tr>    <tr> \n",
       "        <th id=\"T_62df7c0c_ecf5_11e7_95dd_f40f2429f757level0_row4\" class=\"row_heading level0 row4\" >Out C 1</th> \n",
       "        <td id=\"T_62df7c0c_ecf5_11e7_95dd_f40f2429f757row4_col0\" class=\"data row4 col0\" >0</td> \n",
       "        <td id=\"T_62df7c0c_ecf5_11e7_95dd_f40f2429f757row4_col1\" class=\"data row4 col1\" >0</td> \n",
       "        <td id=\"T_62df7c0c_ecf5_11e7_95dd_f40f2429f757row4_col2\" class=\"data row4 col2\" >0.0205209</td> \n",
       "        <td id=\"T_62df7c0c_ecf5_11e7_95dd_f40f2429f757row4_col3\" class=\"data row4 col3\" >0</td> \n",
       "        <td id=\"T_62df7c0c_ecf5_11e7_95dd_f40f2429f757row4_col4\" class=\"data row4 col4\" >0</td> \n",
       "        <td id=\"T_62df7c0c_ecf5_11e7_95dd_f40f2429f757row4_col5\" class=\"data row4 col5\" >0</td> \n",
       "        <td id=\"T_62df7c0c_ecf5_11e7_95dd_f40f2429f757row4_col6\" class=\"data row4 col6\" >0.0489345</td> \n",
       "        <td id=\"T_62df7c0c_ecf5_11e7_95dd_f40f2429f757row4_col7\" class=\"data row4 col7\" >0</td> \n",
       "        <td id=\"T_62df7c0c_ecf5_11e7_95dd_f40f2429f757row4_col8\" class=\"data row4 col8\" >0</td> \n",
       "        <td id=\"T_62df7c0c_ecf5_11e7_95dd_f40f2429f757row4_col9\" class=\"data row4 col9\" >0</td> \n",
       "        <td id=\"T_62df7c0c_ecf5_11e7_95dd_f40f2429f757row4_col10\" class=\"data row4 col10\" >0</td> \n",
       "        <td id=\"T_62df7c0c_ecf5_11e7_95dd_f40f2429f757row4_col11\" class=\"data row4 col11\" >0</td> \n",
       "        <td id=\"T_62df7c0c_ecf5_11e7_95dd_f40f2429f757row4_col12\" class=\"data row4 col12\" >0</td> \n",
       "    </tr>    <tr> \n",
       "        <th id=\"T_62df7c0c_ecf5_11e7_95dd_f40f2429f757level0_row5\" class=\"row_heading level0 row5\" >Out A 1</th> \n",
       "        <td id=\"T_62df7c0c_ecf5_11e7_95dd_f40f2429f757row5_col0\" class=\"data row5 col0\" >0</td> \n",
       "        <td id=\"T_62df7c0c_ecf5_11e7_95dd_f40f2429f757row5_col1\" class=\"data row5 col1\" >0</td> \n",
       "        <td id=\"T_62df7c0c_ecf5_11e7_95dd_f40f2429f757row5_col2\" class=\"data row5 col2\" >0</td> \n",
       "        <td id=\"T_62df7c0c_ecf5_11e7_95dd_f40f2429f757row5_col3\" class=\"data row5 col3\" >0.0205209</td> \n",
       "        <td id=\"T_62df7c0c_ecf5_11e7_95dd_f40f2429f757row5_col4\" class=\"data row5 col4\" >0</td> \n",
       "        <td id=\"T_62df7c0c_ecf5_11e7_95dd_f40f2429f757row5_col5\" class=\"data row5 col5\" >0</td> \n",
       "        <td id=\"T_62df7c0c_ecf5_11e7_95dd_f40f2429f757row5_col6\" class=\"data row5 col6\" >0</td> \n",
       "        <td id=\"T_62df7c0c_ecf5_11e7_95dd_f40f2429f757row5_col7\" class=\"data row5 col7\" >0.0402526</td> \n",
       "        <td id=\"T_62df7c0c_ecf5_11e7_95dd_f40f2429f757row5_col8\" class=\"data row5 col8\" >0</td> \n",
       "        <td id=\"T_62df7c0c_ecf5_11e7_95dd_f40f2429f757row5_col9\" class=\"data row5 col9\" >0</td> \n",
       "        <td id=\"T_62df7c0c_ecf5_11e7_95dd_f40f2429f757row5_col10\" class=\"data row5 col10\" >0</td> \n",
       "        <td id=\"T_62df7c0c_ecf5_11e7_95dd_f40f2429f757row5_col11\" class=\"data row5 col11\" >0</td> \n",
       "        <td id=\"T_62df7c0c_ecf5_11e7_95dd_f40f2429f757row5_col12\" class=\"data row5 col12\" >0</td> \n",
       "    </tr>    <tr> \n",
       "        <th id=\"T_62df7c0c_ecf5_11e7_95dd_f40f2429f757level0_row6\" class=\"row_heading level0 row6\" >Out C 2</th> \n",
       "        <td id=\"T_62df7c0c_ecf5_11e7_95dd_f40f2429f757row6_col0\" class=\"data row6 col0\" >0</td> \n",
       "        <td id=\"T_62df7c0c_ecf5_11e7_95dd_f40f2429f757row6_col1\" class=\"data row6 col1\" >0</td> \n",
       "        <td id=\"T_62df7c0c_ecf5_11e7_95dd_f40f2429f757row6_col2\" class=\"data row6 col2\" >0</td> \n",
       "        <td id=\"T_62df7c0c_ecf5_11e7_95dd_f40f2429f757row6_col3\" class=\"data row6 col3\" >0</td> \n",
       "        <td id=\"T_62df7c0c_ecf5_11e7_95dd_f40f2429f757row6_col4\" class=\"data row6 col4\" >0.0489345</td> \n",
       "        <td id=\"T_62df7c0c_ecf5_11e7_95dd_f40f2429f757row6_col5\" class=\"data row6 col5\" >0</td> \n",
       "        <td id=\"T_62df7c0c_ecf5_11e7_95dd_f40f2429f757row6_col6\" class=\"data row6 col6\" >0</td> \n",
       "        <td id=\"T_62df7c0c_ecf5_11e7_95dd_f40f2429f757row6_col7\" class=\"data row6 col7\" >0</td> \n",
       "        <td id=\"T_62df7c0c_ecf5_11e7_95dd_f40f2429f757row6_col8\" class=\"data row6 col8\" >0.0165746</td> \n",
       "        <td id=\"T_62df7c0c_ecf5_11e7_95dd_f40f2429f757row6_col9\" class=\"data row6 col9\" >0</td> \n",
       "        <td id=\"T_62df7c0c_ecf5_11e7_95dd_f40f2429f757row6_col10\" class=\"data row6 col10\" >0</td> \n",
       "        <td id=\"T_62df7c0c_ecf5_11e7_95dd_f40f2429f757row6_col11\" class=\"data row6 col11\" >0</td> \n",
       "        <td id=\"T_62df7c0c_ecf5_11e7_95dd_f40f2429f757row6_col12\" class=\"data row6 col12\" >0</td> \n",
       "    </tr>    <tr> \n",
       "        <th id=\"T_62df7c0c_ecf5_11e7_95dd_f40f2429f757level0_row7\" class=\"row_heading level0 row7\" >Out A 2</th> \n",
       "        <td id=\"T_62df7c0c_ecf5_11e7_95dd_f40f2429f757row7_col0\" class=\"data row7 col0\" >0</td> \n",
       "        <td id=\"T_62df7c0c_ecf5_11e7_95dd_f40f2429f757row7_col1\" class=\"data row7 col1\" >0</td> \n",
       "        <td id=\"T_62df7c0c_ecf5_11e7_95dd_f40f2429f757row7_col2\" class=\"data row7 col2\" >0</td> \n",
       "        <td id=\"T_62df7c0c_ecf5_11e7_95dd_f40f2429f757row7_col3\" class=\"data row7 col3\" >0</td> \n",
       "        <td id=\"T_62df7c0c_ecf5_11e7_95dd_f40f2429f757row7_col4\" class=\"data row7 col4\" >0</td> \n",
       "        <td id=\"T_62df7c0c_ecf5_11e7_95dd_f40f2429f757row7_col5\" class=\"data row7 col5\" >0.0402526</td> \n",
       "        <td id=\"T_62df7c0c_ecf5_11e7_95dd_f40f2429f757row7_col6\" class=\"data row7 col6\" >0</td> \n",
       "        <td id=\"T_62df7c0c_ecf5_11e7_95dd_f40f2429f757row7_col7\" class=\"data row7 col7\" >0</td> \n",
       "        <td id=\"T_62df7c0c_ecf5_11e7_95dd_f40f2429f757row7_col8\" class=\"data row7 col8\" >0.0189424</td> \n",
       "        <td id=\"T_62df7c0c_ecf5_11e7_95dd_f40f2429f757row7_col9\" class=\"data row7 col9\" >0</td> \n",
       "        <td id=\"T_62df7c0c_ecf5_11e7_95dd_f40f2429f757row7_col10\" class=\"data row7 col10\" >0</td> \n",
       "        <td id=\"T_62df7c0c_ecf5_11e7_95dd_f40f2429f757row7_col11\" class=\"data row7 col11\" >0</td> \n",
       "        <td id=\"T_62df7c0c_ecf5_11e7_95dd_f40f2429f757row7_col12\" class=\"data row7 col12\" >0</td> \n",
       "    </tr>    <tr> \n",
       "        <th id=\"T_62df7c0c_ecf5_11e7_95dd_f40f2429f757level0_row8\" class=\"row_heading level0 row8\" >[UnionEnsemble]</th> \n",
       "        <td id=\"T_62df7c0c_ecf5_11e7_95dd_f40f2429f757row8_col0\" class=\"data row8 col0\" >0</td> \n",
       "        <td id=\"T_62df7c0c_ecf5_11e7_95dd_f40f2429f757row8_col1\" class=\"data row8 col1\" >0</td> \n",
       "        <td id=\"T_62df7c0c_ecf5_11e7_95dd_f40f2429f757row8_col2\" class=\"data row8 col2\" >0</td> \n",
       "        <td id=\"T_62df7c0c_ecf5_11e7_95dd_f40f2429f757row8_col3\" class=\"data row8 col3\" >0</td> \n",
       "        <td id=\"T_62df7c0c_ecf5_11e7_95dd_f40f2429f757row8_col4\" class=\"data row8 col4\" >0</td> \n",
       "        <td id=\"T_62df7c0c_ecf5_11e7_95dd_f40f2429f757row8_col5\" class=\"data row8 col5\" >0</td> \n",
       "        <td id=\"T_62df7c0c_ecf5_11e7_95dd_f40f2429f757row8_col6\" class=\"data row8 col6\" >0.0165746</td> \n",
       "        <td id=\"T_62df7c0c_ecf5_11e7_95dd_f40f2429f757row8_col7\" class=\"data row8 col7\" >0.0189424</td> \n",
       "        <td id=\"T_62df7c0c_ecf5_11e7_95dd_f40f2429f757row8_col8\" class=\"data row8 col8\" >0</td> \n",
       "        <td id=\"T_62df7c0c_ecf5_11e7_95dd_f40f2429f757row8_col9\" class=\"data row8 col9\" >0.0205209</td> \n",
       "        <td id=\"T_62df7c0c_ecf5_11e7_95dd_f40f2429f757row8_col10\" class=\"data row8 col10\" >0</td> \n",
       "        <td id=\"T_62df7c0c_ecf5_11e7_95dd_f40f2429f757row8_col11\" class=\"data row8 col11\" >0</td> \n",
       "        <td id=\"T_62df7c0c_ecf5_11e7_95dd_f40f2429f757row8_col12\" class=\"data row8 col12\" >0</td> \n",
       "    </tr>    <tr> \n",
       "        <th id=\"T_62df7c0c_ecf5_11e7_95dd_f40f2429f757level0_row9\" class=\"row_heading level0 row9\" >Out B 2</th> \n",
       "        <td id=\"T_62df7c0c_ecf5_11e7_95dd_f40f2429f757row9_col0\" class=\"data row9 col0\" >0</td> \n",
       "        <td id=\"T_62df7c0c_ecf5_11e7_95dd_f40f2429f757row9_col1\" class=\"data row9 col1\" >0</td> \n",
       "        <td id=\"T_62df7c0c_ecf5_11e7_95dd_f40f2429f757row9_col2\" class=\"data row9 col2\" >0</td> \n",
       "        <td id=\"T_62df7c0c_ecf5_11e7_95dd_f40f2429f757row9_col3\" class=\"data row9 col3\" >0</td> \n",
       "        <td id=\"T_62df7c0c_ecf5_11e7_95dd_f40f2429f757row9_col4\" class=\"data row9 col4\" >0</td> \n",
       "        <td id=\"T_62df7c0c_ecf5_11e7_95dd_f40f2429f757row9_col5\" class=\"data row9 col5\" >0</td> \n",
       "        <td id=\"T_62df7c0c_ecf5_11e7_95dd_f40f2429f757row9_col6\" class=\"data row9 col6\" >0</td> \n",
       "        <td id=\"T_62df7c0c_ecf5_11e7_95dd_f40f2429f757row9_col7\" class=\"data row9 col7\" >0</td> \n",
       "        <td id=\"T_62df7c0c_ecf5_11e7_95dd_f40f2429f757row9_col8\" class=\"data row9 col8\" >0.0205209</td> \n",
       "        <td id=\"T_62df7c0c_ecf5_11e7_95dd_f40f2429f757row9_col9\" class=\"data row9 col9\" >0</td> \n",
       "        <td id=\"T_62df7c0c_ecf5_11e7_95dd_f40f2429f757row9_col10\" class=\"data row9 col10\" >0.035517</td> \n",
       "        <td id=\"T_62df7c0c_ecf5_11e7_95dd_f40f2429f757row9_col11\" class=\"data row9 col11\" >0</td> \n",
       "        <td id=\"T_62df7c0c_ecf5_11e7_95dd_f40f2429f757row9_col12\" class=\"data row9 col12\" >0</td> \n",
       "    </tr>    <tr> \n",
       "        <th id=\"T_62df7c0c_ecf5_11e7_95dd_f40f2429f757level0_row10\" class=\"row_heading level0 row10\" >Out B 1</th> \n",
       "        <td id=\"T_62df7c0c_ecf5_11e7_95dd_f40f2429f757row10_col0\" class=\"data row10 col0\" >0</td> \n",
       "        <td id=\"T_62df7c0c_ecf5_11e7_95dd_f40f2429f757row10_col1\" class=\"data row10 col1\" >0</td> \n",
       "        <td id=\"T_62df7c0c_ecf5_11e7_95dd_f40f2429f757row10_col2\" class=\"data row10 col2\" >0</td> \n",
       "        <td id=\"T_62df7c0c_ecf5_11e7_95dd_f40f2429f757row10_col3\" class=\"data row10 col3\" >0</td> \n",
       "        <td id=\"T_62df7c0c_ecf5_11e7_95dd_f40f2429f757row10_col4\" class=\"data row10 col4\" >0</td> \n",
       "        <td id=\"T_62df7c0c_ecf5_11e7_95dd_f40f2429f757row10_col5\" class=\"data row10 col5\" >0</td> \n",
       "        <td id=\"T_62df7c0c_ecf5_11e7_95dd_f40f2429f757row10_col6\" class=\"data row10 col6\" >0</td> \n",
       "        <td id=\"T_62df7c0c_ecf5_11e7_95dd_f40f2429f757row10_col7\" class=\"data row10 col7\" >0</td> \n",
       "        <td id=\"T_62df7c0c_ecf5_11e7_95dd_f40f2429f757row10_col8\" class=\"data row10 col8\" >0</td> \n",
       "        <td id=\"T_62df7c0c_ecf5_11e7_95dd_f40f2429f757row10_col9\" class=\"data row10 col9\" >0.035517</td> \n",
       "        <td id=\"T_62df7c0c_ecf5_11e7_95dd_f40f2429f757row10_col10\" class=\"data row10 col10\" >0</td> \n",
       "        <td id=\"T_62df7c0c_ecf5_11e7_95dd_f40f2429f757row10_col11\" class=\"data row10 col11\" >0.0213102</td> \n",
       "        <td id=\"T_62df7c0c_ecf5_11e7_95dd_f40f2429f757row10_col12\" class=\"data row10 col12\" >0</td> \n",
       "    </tr>    <tr> \n",
       "        <th id=\"T_62df7c0c_ecf5_11e7_95dd_f40f2429f757level0_row11\" class=\"row_heading level0 row11\" >Out B 0</th> \n",
       "        <td id=\"T_62df7c0c_ecf5_11e7_95dd_f40f2429f757row11_col0\" class=\"data row11 col0\" >0</td> \n",
       "        <td id=\"T_62df7c0c_ecf5_11e7_95dd_f40f2429f757row11_col1\" class=\"data row11 col1\" >0</td> \n",
       "        <td id=\"T_62df7c0c_ecf5_11e7_95dd_f40f2429f757row11_col2\" class=\"data row11 col2\" >0</td> \n",
       "        <td id=\"T_62df7c0c_ecf5_11e7_95dd_f40f2429f757row11_col3\" class=\"data row11 col3\" >0</td> \n",
       "        <td id=\"T_62df7c0c_ecf5_11e7_95dd_f40f2429f757row11_col4\" class=\"data row11 col4\" >0</td> \n",
       "        <td id=\"T_62df7c0c_ecf5_11e7_95dd_f40f2429f757row11_col5\" class=\"data row11 col5\" >0</td> \n",
       "        <td id=\"T_62df7c0c_ecf5_11e7_95dd_f40f2429f757row11_col6\" class=\"data row11 col6\" >0</td> \n",
       "        <td id=\"T_62df7c0c_ecf5_11e7_95dd_f40f2429f757row11_col7\" class=\"data row11 col7\" >0</td> \n",
       "        <td id=\"T_62df7c0c_ecf5_11e7_95dd_f40f2429f757row11_col8\" class=\"data row11 col8\" >0</td> \n",
       "        <td id=\"T_62df7c0c_ecf5_11e7_95dd_f40f2429f757row11_col9\" class=\"data row11 col9\" >0</td> \n",
       "        <td id=\"T_62df7c0c_ecf5_11e7_95dd_f40f2429f757row11_col10\" class=\"data row11 col10\" >0.0213102</td> \n",
       "        <td id=\"T_62df7c0c_ecf5_11e7_95dd_f40f2429f757row11_col11\" class=\"data row11 col11\" >0</td> \n",
       "        <td id=\"T_62df7c0c_ecf5_11e7_95dd_f40f2429f757row11_col12\" class=\"data row11 col12\" >0.035517</td> \n",
       "    </tr>    <tr> \n",
       "        <th id=\"T_62df7c0c_ecf5_11e7_95dd_f40f2429f757level0_row12\" class=\"row_heading level0 row12\" >Out B minus</th> \n",
       "        <td id=\"T_62df7c0c_ecf5_11e7_95dd_f40f2429f757row12_col0\" class=\"data row12 col0\" >0</td> \n",
       "        <td id=\"T_62df7c0c_ecf5_11e7_95dd_f40f2429f757row12_col1\" class=\"data row12 col1\" >0</td> \n",
       "        <td id=\"T_62df7c0c_ecf5_11e7_95dd_f40f2429f757row12_col2\" class=\"data row12 col2\" >0</td> \n",
       "        <td id=\"T_62df7c0c_ecf5_11e7_95dd_f40f2429f757row12_col3\" class=\"data row12 col3\" >0</td> \n",
       "        <td id=\"T_62df7c0c_ecf5_11e7_95dd_f40f2429f757row12_col4\" class=\"data row12 col4\" >0</td> \n",
       "        <td id=\"T_62df7c0c_ecf5_11e7_95dd_f40f2429f757row12_col5\" class=\"data row12 col5\" >0</td> \n",
       "        <td id=\"T_62df7c0c_ecf5_11e7_95dd_f40f2429f757row12_col6\" class=\"data row12 col6\" >0</td> \n",
       "        <td id=\"T_62df7c0c_ecf5_11e7_95dd_f40f2429f757row12_col7\" class=\"data row12 col7\" >0</td> \n",
       "        <td id=\"T_62df7c0c_ecf5_11e7_95dd_f40f2429f757row12_col8\" class=\"data row12 col8\" >0</td> \n",
       "        <td id=\"T_62df7c0c_ecf5_11e7_95dd_f40f2429f757row12_col9\" class=\"data row12 col9\" >0</td> \n",
       "        <td id=\"T_62df7c0c_ecf5_11e7_95dd_f40f2429f757row12_col10\" class=\"data row12 col10\" >0</td> \n",
       "        <td id=\"T_62df7c0c_ecf5_11e7_95dd_f40f2429f757row12_col11\" class=\"data row12 col11\" >0.035517</td> \n",
       "        <td id=\"T_62df7c0c_ecf5_11e7_95dd_f40f2429f757row12_col12\" class=\"data row12 col12\" >0</td> \n",
       "    </tr></tbody> \n",
       "</table> "
      ],
      "text/plain": [
       "<pandas.io.formats.style.Styler at 0x11befbd10>"
      ]
     },
     "execution_count": 15,
     "metadata": {},
     "output_type": "execute_result"
    }
   ],
   "source": [
    "repx_net.transition_matrix().style\n",
    "# .style has the effect that 0.0 is reported as 0 instead of 0.000000"
   ]
  },
  {
   "cell_type": "markdown",
   "metadata": {},
   "source": [
    "If you would like to set a different order, that can be done by providing a list of the ensembles in whatever order you choose:"
   ]
  },
  {
   "cell_type": "code",
   "execution_count": 16,
   "metadata": {},
   "outputs": [
    {
     "name": "stdout",
     "output_type": "stream",
     "text": [
      "[ 8  1  0  5 12 11  9  2  7  3  4  6 10]\n"
     ]
    }
   ],
   "source": [
    "import numpy as np\n",
    "perm = np.random.permutation(len(mstis.all_ensembles))\n",
    "print(perm)"
   ]
  },
  {
   "cell_type": "code",
   "execution_count": 17,
   "metadata": {},
   "outputs": [
    {
     "data": {
      "text/html": [
       "<style  type=\"text/css\" >\n",
       "</style>  \n",
       "<table id=\"T_62e4f1f8_ecf5_11e7_af3e_f40f2429f757\" > \n",
       "<thead>    <tr> \n",
       "        <th class=\"blank level0\" ></th> \n",
       "        <th class=\"col_heading level0 col0\" >Out A 0</th> \n",
       "        <th class=\"col_heading level0 col1\" >Out A 1</th> \n",
       "        <th class=\"col_heading level0 col2\" >Out A 2</th> \n",
       "        <th class=\"col_heading level0 col3\" >Out B 0</th> \n",
       "        <th class=\"col_heading level0 col4\" >Out B 1</th> \n",
       "        <th class=\"col_heading level0 col5\" >Out B 2</th> \n",
       "        <th class=\"col_heading level0 col6\" >Out C 0</th> \n",
       "        <th class=\"col_heading level0 col7\" >Out C 1</th> \n",
       "        <th class=\"col_heading level0 col8\" >Out C 2</th> \n",
       "        <th class=\"col_heading level0 col9\" >[UnionEnsemble]</th> \n",
       "        <th class=\"col_heading level0 col10\" >Out B minus</th> \n",
       "        <th class=\"col_heading level0 col11\" >Out A minus</th> \n",
       "        <th class=\"col_heading level0 col12\" >Out C minus</th> \n",
       "    </tr></thead> \n",
       "<tbody>    <tr> \n",
       "        <th id=\"T_62e4f1f8_ecf5_11e7_af3e_f40f2429f757level0_row0\" class=\"row_heading level0 row0\" >Out A 0</th> \n",
       "        <td id=\"T_62e4f1f8_ecf5_11e7_af3e_f40f2429f757row0_col0\" class=\"data row0 col0\" >0</td> \n",
       "        <td id=\"T_62e4f1f8_ecf5_11e7_af3e_f40f2429f757row0_col1\" class=\"data row0 col1\" >0.0205209</td> \n",
       "        <td id=\"T_62e4f1f8_ecf5_11e7_af3e_f40f2429f757row0_col2\" class=\"data row0 col2\" >0</td> \n",
       "        <td id=\"T_62e4f1f8_ecf5_11e7_af3e_f40f2429f757row0_col3\" class=\"data row0 col3\" >0</td> \n",
       "        <td id=\"T_62e4f1f8_ecf5_11e7_af3e_f40f2429f757row0_col4\" class=\"data row0 col4\" >0</td> \n",
       "        <td id=\"T_62e4f1f8_ecf5_11e7_af3e_f40f2429f757row0_col5\" class=\"data row0 col5\" >0</td> \n",
       "        <td id=\"T_62e4f1f8_ecf5_11e7_af3e_f40f2429f757row0_col6\" class=\"data row0 col6\" >0</td> \n",
       "        <td id=\"T_62e4f1f8_ecf5_11e7_af3e_f40f2429f757row0_col7\" class=\"data row0 col7\" >0</td> \n",
       "        <td id=\"T_62e4f1f8_ecf5_11e7_af3e_f40f2429f757row0_col8\" class=\"data row0 col8\" >0</td> \n",
       "        <td id=\"T_62e4f1f8_ecf5_11e7_af3e_f40f2429f757row0_col9\" class=\"data row0 col9\" >0</td> \n",
       "        <td id=\"T_62e4f1f8_ecf5_11e7_af3e_f40f2429f757row0_col10\" class=\"data row0 col10\" >0</td> \n",
       "        <td id=\"T_62e4f1f8_ecf5_11e7_af3e_f40f2429f757row0_col11\" class=\"data row0 col11\" >0.0370955</td> \n",
       "        <td id=\"T_62e4f1f8_ecf5_11e7_af3e_f40f2429f757row0_col12\" class=\"data row0 col12\" >0</td> \n",
       "    </tr>    <tr> \n",
       "        <th id=\"T_62e4f1f8_ecf5_11e7_af3e_f40f2429f757level0_row1\" class=\"row_heading level0 row1\" >Out A 1</th> \n",
       "        <td id=\"T_62e4f1f8_ecf5_11e7_af3e_f40f2429f757row1_col0\" class=\"data row1 col0\" >0.0205209</td> \n",
       "        <td id=\"T_62e4f1f8_ecf5_11e7_af3e_f40f2429f757row1_col1\" class=\"data row1 col1\" >0</td> \n",
       "        <td id=\"T_62e4f1f8_ecf5_11e7_af3e_f40f2429f757row1_col2\" class=\"data row1 col2\" >0.0402526</td> \n",
       "        <td id=\"T_62e4f1f8_ecf5_11e7_af3e_f40f2429f757row1_col3\" class=\"data row1 col3\" >0</td> \n",
       "        <td id=\"T_62e4f1f8_ecf5_11e7_af3e_f40f2429f757row1_col4\" class=\"data row1 col4\" >0</td> \n",
       "        <td id=\"T_62e4f1f8_ecf5_11e7_af3e_f40f2429f757row1_col5\" class=\"data row1 col5\" >0</td> \n",
       "        <td id=\"T_62e4f1f8_ecf5_11e7_af3e_f40f2429f757row1_col6\" class=\"data row1 col6\" >0</td> \n",
       "        <td id=\"T_62e4f1f8_ecf5_11e7_af3e_f40f2429f757row1_col7\" class=\"data row1 col7\" >0</td> \n",
       "        <td id=\"T_62e4f1f8_ecf5_11e7_af3e_f40f2429f757row1_col8\" class=\"data row1 col8\" >0</td> \n",
       "        <td id=\"T_62e4f1f8_ecf5_11e7_af3e_f40f2429f757row1_col9\" class=\"data row1 col9\" >0</td> \n",
       "        <td id=\"T_62e4f1f8_ecf5_11e7_af3e_f40f2429f757row1_col10\" class=\"data row1 col10\" >0</td> \n",
       "        <td id=\"T_62e4f1f8_ecf5_11e7_af3e_f40f2429f757row1_col11\" class=\"data row1 col11\" >0</td> \n",
       "        <td id=\"T_62e4f1f8_ecf5_11e7_af3e_f40f2429f757row1_col12\" class=\"data row1 col12\" >0</td> \n",
       "    </tr>    <tr> \n",
       "        <th id=\"T_62e4f1f8_ecf5_11e7_af3e_f40f2429f757level0_row2\" class=\"row_heading level0 row2\" >Out A 2</th> \n",
       "        <td id=\"T_62e4f1f8_ecf5_11e7_af3e_f40f2429f757row2_col0\" class=\"data row2 col0\" >0</td> \n",
       "        <td id=\"T_62e4f1f8_ecf5_11e7_af3e_f40f2429f757row2_col1\" class=\"data row2 col1\" >0.0402526</td> \n",
       "        <td id=\"T_62e4f1f8_ecf5_11e7_af3e_f40f2429f757row2_col2\" class=\"data row2 col2\" >0</td> \n",
       "        <td id=\"T_62e4f1f8_ecf5_11e7_af3e_f40f2429f757row2_col3\" class=\"data row2 col3\" >0</td> \n",
       "        <td id=\"T_62e4f1f8_ecf5_11e7_af3e_f40f2429f757row2_col4\" class=\"data row2 col4\" >0</td> \n",
       "        <td id=\"T_62e4f1f8_ecf5_11e7_af3e_f40f2429f757row2_col5\" class=\"data row2 col5\" >0</td> \n",
       "        <td id=\"T_62e4f1f8_ecf5_11e7_af3e_f40f2429f757row2_col6\" class=\"data row2 col6\" >0</td> \n",
       "        <td id=\"T_62e4f1f8_ecf5_11e7_af3e_f40f2429f757row2_col7\" class=\"data row2 col7\" >0</td> \n",
       "        <td id=\"T_62e4f1f8_ecf5_11e7_af3e_f40f2429f757row2_col8\" class=\"data row2 col8\" >0</td> \n",
       "        <td id=\"T_62e4f1f8_ecf5_11e7_af3e_f40f2429f757row2_col9\" class=\"data row2 col9\" >0.0189424</td> \n",
       "        <td id=\"T_62e4f1f8_ecf5_11e7_af3e_f40f2429f757row2_col10\" class=\"data row2 col10\" >0</td> \n",
       "        <td id=\"T_62e4f1f8_ecf5_11e7_af3e_f40f2429f757row2_col11\" class=\"data row2 col11\" >0</td> \n",
       "        <td id=\"T_62e4f1f8_ecf5_11e7_af3e_f40f2429f757row2_col12\" class=\"data row2 col12\" >0</td> \n",
       "    </tr>    <tr> \n",
       "        <th id=\"T_62e4f1f8_ecf5_11e7_af3e_f40f2429f757level0_row3\" class=\"row_heading level0 row3\" >Out B 0</th> \n",
       "        <td id=\"T_62e4f1f8_ecf5_11e7_af3e_f40f2429f757row3_col0\" class=\"data row3 col0\" >0</td> \n",
       "        <td id=\"T_62e4f1f8_ecf5_11e7_af3e_f40f2429f757row3_col1\" class=\"data row3 col1\" >0</td> \n",
       "        <td id=\"T_62e4f1f8_ecf5_11e7_af3e_f40f2429f757row3_col2\" class=\"data row3 col2\" >0</td> \n",
       "        <td id=\"T_62e4f1f8_ecf5_11e7_af3e_f40f2429f757row3_col3\" class=\"data row3 col3\" >0</td> \n",
       "        <td id=\"T_62e4f1f8_ecf5_11e7_af3e_f40f2429f757row3_col4\" class=\"data row3 col4\" >0.0213102</td> \n",
       "        <td id=\"T_62e4f1f8_ecf5_11e7_af3e_f40f2429f757row3_col5\" class=\"data row3 col5\" >0</td> \n",
       "        <td id=\"T_62e4f1f8_ecf5_11e7_af3e_f40f2429f757row3_col6\" class=\"data row3 col6\" >0</td> \n",
       "        <td id=\"T_62e4f1f8_ecf5_11e7_af3e_f40f2429f757row3_col7\" class=\"data row3 col7\" >0</td> \n",
       "        <td id=\"T_62e4f1f8_ecf5_11e7_af3e_f40f2429f757row3_col8\" class=\"data row3 col8\" >0</td> \n",
       "        <td id=\"T_62e4f1f8_ecf5_11e7_af3e_f40f2429f757row3_col9\" class=\"data row3 col9\" >0</td> \n",
       "        <td id=\"T_62e4f1f8_ecf5_11e7_af3e_f40f2429f757row3_col10\" class=\"data row3 col10\" >0.035517</td> \n",
       "        <td id=\"T_62e4f1f8_ecf5_11e7_af3e_f40f2429f757row3_col11\" class=\"data row3 col11\" >0</td> \n",
       "        <td id=\"T_62e4f1f8_ecf5_11e7_af3e_f40f2429f757row3_col12\" class=\"data row3 col12\" >0</td> \n",
       "    </tr>    <tr> \n",
       "        <th id=\"T_62e4f1f8_ecf5_11e7_af3e_f40f2429f757level0_row4\" class=\"row_heading level0 row4\" >Out B 1</th> \n",
       "        <td id=\"T_62e4f1f8_ecf5_11e7_af3e_f40f2429f757row4_col0\" class=\"data row4 col0\" >0</td> \n",
       "        <td id=\"T_62e4f1f8_ecf5_11e7_af3e_f40f2429f757row4_col1\" class=\"data row4 col1\" >0</td> \n",
       "        <td id=\"T_62e4f1f8_ecf5_11e7_af3e_f40f2429f757row4_col2\" class=\"data row4 col2\" >0</td> \n",
       "        <td id=\"T_62e4f1f8_ecf5_11e7_af3e_f40f2429f757row4_col3\" class=\"data row4 col3\" >0.0213102</td> \n",
       "        <td id=\"T_62e4f1f8_ecf5_11e7_af3e_f40f2429f757row4_col4\" class=\"data row4 col4\" >0</td> \n",
       "        <td id=\"T_62e4f1f8_ecf5_11e7_af3e_f40f2429f757row4_col5\" class=\"data row4 col5\" >0.035517</td> \n",
       "        <td id=\"T_62e4f1f8_ecf5_11e7_af3e_f40f2429f757row4_col6\" class=\"data row4 col6\" >0</td> \n",
       "        <td id=\"T_62e4f1f8_ecf5_11e7_af3e_f40f2429f757row4_col7\" class=\"data row4 col7\" >0</td> \n",
       "        <td id=\"T_62e4f1f8_ecf5_11e7_af3e_f40f2429f757row4_col8\" class=\"data row4 col8\" >0</td> \n",
       "        <td id=\"T_62e4f1f8_ecf5_11e7_af3e_f40f2429f757row4_col9\" class=\"data row4 col9\" >0</td> \n",
       "        <td id=\"T_62e4f1f8_ecf5_11e7_af3e_f40f2429f757row4_col10\" class=\"data row4 col10\" >0</td> \n",
       "        <td id=\"T_62e4f1f8_ecf5_11e7_af3e_f40f2429f757row4_col11\" class=\"data row4 col11\" >0</td> \n",
       "        <td id=\"T_62e4f1f8_ecf5_11e7_af3e_f40f2429f757row4_col12\" class=\"data row4 col12\" >0</td> \n",
       "    </tr>    <tr> \n",
       "        <th id=\"T_62e4f1f8_ecf5_11e7_af3e_f40f2429f757level0_row5\" class=\"row_heading level0 row5\" >Out B 2</th> \n",
       "        <td id=\"T_62e4f1f8_ecf5_11e7_af3e_f40f2429f757row5_col0\" class=\"data row5 col0\" >0</td> \n",
       "        <td id=\"T_62e4f1f8_ecf5_11e7_af3e_f40f2429f757row5_col1\" class=\"data row5 col1\" >0</td> \n",
       "        <td id=\"T_62e4f1f8_ecf5_11e7_af3e_f40f2429f757row5_col2\" class=\"data row5 col2\" >0</td> \n",
       "        <td id=\"T_62e4f1f8_ecf5_11e7_af3e_f40f2429f757row5_col3\" class=\"data row5 col3\" >0</td> \n",
       "        <td id=\"T_62e4f1f8_ecf5_11e7_af3e_f40f2429f757row5_col4\" class=\"data row5 col4\" >0.035517</td> \n",
       "        <td id=\"T_62e4f1f8_ecf5_11e7_af3e_f40f2429f757row5_col5\" class=\"data row5 col5\" >0</td> \n",
       "        <td id=\"T_62e4f1f8_ecf5_11e7_af3e_f40f2429f757row5_col6\" class=\"data row5 col6\" >0</td> \n",
       "        <td id=\"T_62e4f1f8_ecf5_11e7_af3e_f40f2429f757row5_col7\" class=\"data row5 col7\" >0</td> \n",
       "        <td id=\"T_62e4f1f8_ecf5_11e7_af3e_f40f2429f757row5_col8\" class=\"data row5 col8\" >0</td> \n",
       "        <td id=\"T_62e4f1f8_ecf5_11e7_af3e_f40f2429f757row5_col9\" class=\"data row5 col9\" >0.0205209</td> \n",
       "        <td id=\"T_62e4f1f8_ecf5_11e7_af3e_f40f2429f757row5_col10\" class=\"data row5 col10\" >0</td> \n",
       "        <td id=\"T_62e4f1f8_ecf5_11e7_af3e_f40f2429f757row5_col11\" class=\"data row5 col11\" >0</td> \n",
       "        <td id=\"T_62e4f1f8_ecf5_11e7_af3e_f40f2429f757row5_col12\" class=\"data row5 col12\" >0</td> \n",
       "    </tr>    <tr> \n",
       "        <th id=\"T_62e4f1f8_ecf5_11e7_af3e_f40f2429f757level0_row6\" class=\"row_heading level0 row6\" >Out C 0</th> \n",
       "        <td id=\"T_62e4f1f8_ecf5_11e7_af3e_f40f2429f757row6_col0\" class=\"data row6 col0\" >0</td> \n",
       "        <td id=\"T_62e4f1f8_ecf5_11e7_af3e_f40f2429f757row6_col1\" class=\"data row6 col1\" >0</td> \n",
       "        <td id=\"T_62e4f1f8_ecf5_11e7_af3e_f40f2429f757row6_col2\" class=\"data row6 col2\" >0</td> \n",
       "        <td id=\"T_62e4f1f8_ecf5_11e7_af3e_f40f2429f757row6_col3\" class=\"data row6 col3\" >0</td> \n",
       "        <td id=\"T_62e4f1f8_ecf5_11e7_af3e_f40f2429f757row6_col4\" class=\"data row6 col4\" >0</td> \n",
       "        <td id=\"T_62e4f1f8_ecf5_11e7_af3e_f40f2429f757row6_col5\" class=\"data row6 col5\" >0</td> \n",
       "        <td id=\"T_62e4f1f8_ecf5_11e7_af3e_f40f2429f757row6_col6\" class=\"data row6 col6\" >0</td> \n",
       "        <td id=\"T_62e4f1f8_ecf5_11e7_af3e_f40f2429f757row6_col7\" class=\"data row6 col7\" >0.0205209</td> \n",
       "        <td id=\"T_62e4f1f8_ecf5_11e7_af3e_f40f2429f757row6_col8\" class=\"data row6 col8\" >0</td> \n",
       "        <td id=\"T_62e4f1f8_ecf5_11e7_af3e_f40f2429f757row6_col9\" class=\"data row6 col9\" >0</td> \n",
       "        <td id=\"T_62e4f1f8_ecf5_11e7_af3e_f40f2429f757row6_col10\" class=\"data row6 col10\" >0</td> \n",
       "        <td id=\"T_62e4f1f8_ecf5_11e7_af3e_f40f2429f757row6_col11\" class=\"data row6 col11\" >0</td> \n",
       "        <td id=\"T_62e4f1f8_ecf5_11e7_af3e_f40f2429f757row6_col12\" class=\"data row6 col12\" >0.038674</td> \n",
       "    </tr>    <tr> \n",
       "        <th id=\"T_62e4f1f8_ecf5_11e7_af3e_f40f2429f757level0_row7\" class=\"row_heading level0 row7\" >Out C 1</th> \n",
       "        <td id=\"T_62e4f1f8_ecf5_11e7_af3e_f40f2429f757row7_col0\" class=\"data row7 col0\" >0</td> \n",
       "        <td id=\"T_62e4f1f8_ecf5_11e7_af3e_f40f2429f757row7_col1\" class=\"data row7 col1\" >0</td> \n",
       "        <td id=\"T_62e4f1f8_ecf5_11e7_af3e_f40f2429f757row7_col2\" class=\"data row7 col2\" >0</td> \n",
       "        <td id=\"T_62e4f1f8_ecf5_11e7_af3e_f40f2429f757row7_col3\" class=\"data row7 col3\" >0</td> \n",
       "        <td id=\"T_62e4f1f8_ecf5_11e7_af3e_f40f2429f757row7_col4\" class=\"data row7 col4\" >0</td> \n",
       "        <td id=\"T_62e4f1f8_ecf5_11e7_af3e_f40f2429f757row7_col5\" class=\"data row7 col5\" >0</td> \n",
       "        <td id=\"T_62e4f1f8_ecf5_11e7_af3e_f40f2429f757row7_col6\" class=\"data row7 col6\" >0.0205209</td> \n",
       "        <td id=\"T_62e4f1f8_ecf5_11e7_af3e_f40f2429f757row7_col7\" class=\"data row7 col7\" >0</td> \n",
       "        <td id=\"T_62e4f1f8_ecf5_11e7_af3e_f40f2429f757row7_col8\" class=\"data row7 col8\" >0.0489345</td> \n",
       "        <td id=\"T_62e4f1f8_ecf5_11e7_af3e_f40f2429f757row7_col9\" class=\"data row7 col9\" >0</td> \n",
       "        <td id=\"T_62e4f1f8_ecf5_11e7_af3e_f40f2429f757row7_col10\" class=\"data row7 col10\" >0</td> \n",
       "        <td id=\"T_62e4f1f8_ecf5_11e7_af3e_f40f2429f757row7_col11\" class=\"data row7 col11\" >0</td> \n",
       "        <td id=\"T_62e4f1f8_ecf5_11e7_af3e_f40f2429f757row7_col12\" class=\"data row7 col12\" >0</td> \n",
       "    </tr>    <tr> \n",
       "        <th id=\"T_62e4f1f8_ecf5_11e7_af3e_f40f2429f757level0_row8\" class=\"row_heading level0 row8\" >Out C 2</th> \n",
       "        <td id=\"T_62e4f1f8_ecf5_11e7_af3e_f40f2429f757row8_col0\" class=\"data row8 col0\" >0</td> \n",
       "        <td id=\"T_62e4f1f8_ecf5_11e7_af3e_f40f2429f757row8_col1\" class=\"data row8 col1\" >0</td> \n",
       "        <td id=\"T_62e4f1f8_ecf5_11e7_af3e_f40f2429f757row8_col2\" class=\"data row8 col2\" >0</td> \n",
       "        <td id=\"T_62e4f1f8_ecf5_11e7_af3e_f40f2429f757row8_col3\" class=\"data row8 col3\" >0</td> \n",
       "        <td id=\"T_62e4f1f8_ecf5_11e7_af3e_f40f2429f757row8_col4\" class=\"data row8 col4\" >0</td> \n",
       "        <td id=\"T_62e4f1f8_ecf5_11e7_af3e_f40f2429f757row8_col5\" class=\"data row8 col5\" >0</td> \n",
       "        <td id=\"T_62e4f1f8_ecf5_11e7_af3e_f40f2429f757row8_col6\" class=\"data row8 col6\" >0</td> \n",
       "        <td id=\"T_62e4f1f8_ecf5_11e7_af3e_f40f2429f757row8_col7\" class=\"data row8 col7\" >0.0489345</td> \n",
       "        <td id=\"T_62e4f1f8_ecf5_11e7_af3e_f40f2429f757row8_col8\" class=\"data row8 col8\" >0</td> \n",
       "        <td id=\"T_62e4f1f8_ecf5_11e7_af3e_f40f2429f757row8_col9\" class=\"data row8 col9\" >0.0165746</td> \n",
       "        <td id=\"T_62e4f1f8_ecf5_11e7_af3e_f40f2429f757row8_col10\" class=\"data row8 col10\" >0</td> \n",
       "        <td id=\"T_62e4f1f8_ecf5_11e7_af3e_f40f2429f757row8_col11\" class=\"data row8 col11\" >0</td> \n",
       "        <td id=\"T_62e4f1f8_ecf5_11e7_af3e_f40f2429f757row8_col12\" class=\"data row8 col12\" >0</td> \n",
       "    </tr>    <tr> \n",
       "        <th id=\"T_62e4f1f8_ecf5_11e7_af3e_f40f2429f757level0_row9\" class=\"row_heading level0 row9\" >[UnionEnsemble]</th> \n",
       "        <td id=\"T_62e4f1f8_ecf5_11e7_af3e_f40f2429f757row9_col0\" class=\"data row9 col0\" >0</td> \n",
       "        <td id=\"T_62e4f1f8_ecf5_11e7_af3e_f40f2429f757row9_col1\" class=\"data row9 col1\" >0</td> \n",
       "        <td id=\"T_62e4f1f8_ecf5_11e7_af3e_f40f2429f757row9_col2\" class=\"data row9 col2\" >0.0189424</td> \n",
       "        <td id=\"T_62e4f1f8_ecf5_11e7_af3e_f40f2429f757row9_col3\" class=\"data row9 col3\" >0</td> \n",
       "        <td id=\"T_62e4f1f8_ecf5_11e7_af3e_f40f2429f757row9_col4\" class=\"data row9 col4\" >0</td> \n",
       "        <td id=\"T_62e4f1f8_ecf5_11e7_af3e_f40f2429f757row9_col5\" class=\"data row9 col5\" >0.0205209</td> \n",
       "        <td id=\"T_62e4f1f8_ecf5_11e7_af3e_f40f2429f757row9_col6\" class=\"data row9 col6\" >0</td> \n",
       "        <td id=\"T_62e4f1f8_ecf5_11e7_af3e_f40f2429f757row9_col7\" class=\"data row9 col7\" >0</td> \n",
       "        <td id=\"T_62e4f1f8_ecf5_11e7_af3e_f40f2429f757row9_col8\" class=\"data row9 col8\" >0.0165746</td> \n",
       "        <td id=\"T_62e4f1f8_ecf5_11e7_af3e_f40f2429f757row9_col9\" class=\"data row9 col9\" >0</td> \n",
       "        <td id=\"T_62e4f1f8_ecf5_11e7_af3e_f40f2429f757row9_col10\" class=\"data row9 col10\" >0</td> \n",
       "        <td id=\"T_62e4f1f8_ecf5_11e7_af3e_f40f2429f757row9_col11\" class=\"data row9 col11\" >0</td> \n",
       "        <td id=\"T_62e4f1f8_ecf5_11e7_af3e_f40f2429f757row9_col12\" class=\"data row9 col12\" >0</td> \n",
       "    </tr>    <tr> \n",
       "        <th id=\"T_62e4f1f8_ecf5_11e7_af3e_f40f2429f757level0_row10\" class=\"row_heading level0 row10\" >Out B minus</th> \n",
       "        <td id=\"T_62e4f1f8_ecf5_11e7_af3e_f40f2429f757row10_col0\" class=\"data row10 col0\" >0</td> \n",
       "        <td id=\"T_62e4f1f8_ecf5_11e7_af3e_f40f2429f757row10_col1\" class=\"data row10 col1\" >0</td> \n",
       "        <td id=\"T_62e4f1f8_ecf5_11e7_af3e_f40f2429f757row10_col2\" class=\"data row10 col2\" >0</td> \n",
       "        <td id=\"T_62e4f1f8_ecf5_11e7_af3e_f40f2429f757row10_col3\" class=\"data row10 col3\" >0.035517</td> \n",
       "        <td id=\"T_62e4f1f8_ecf5_11e7_af3e_f40f2429f757row10_col4\" class=\"data row10 col4\" >0</td> \n",
       "        <td id=\"T_62e4f1f8_ecf5_11e7_af3e_f40f2429f757row10_col5\" class=\"data row10 col5\" >0</td> \n",
       "        <td id=\"T_62e4f1f8_ecf5_11e7_af3e_f40f2429f757row10_col6\" class=\"data row10 col6\" >0</td> \n",
       "        <td id=\"T_62e4f1f8_ecf5_11e7_af3e_f40f2429f757row10_col7\" class=\"data row10 col7\" >0</td> \n",
       "        <td id=\"T_62e4f1f8_ecf5_11e7_af3e_f40f2429f757row10_col8\" class=\"data row10 col8\" >0</td> \n",
       "        <td id=\"T_62e4f1f8_ecf5_11e7_af3e_f40f2429f757row10_col9\" class=\"data row10 col9\" >0</td> \n",
       "        <td id=\"T_62e4f1f8_ecf5_11e7_af3e_f40f2429f757row10_col10\" class=\"data row10 col10\" >0</td> \n",
       "        <td id=\"T_62e4f1f8_ecf5_11e7_af3e_f40f2429f757row10_col11\" class=\"data row10 col11\" >0</td> \n",
       "        <td id=\"T_62e4f1f8_ecf5_11e7_af3e_f40f2429f757row10_col12\" class=\"data row10 col12\" >0</td> \n",
       "    </tr>    <tr> \n",
       "        <th id=\"T_62e4f1f8_ecf5_11e7_af3e_f40f2429f757level0_row11\" class=\"row_heading level0 row11\" >Out A minus</th> \n",
       "        <td id=\"T_62e4f1f8_ecf5_11e7_af3e_f40f2429f757row11_col0\" class=\"data row11 col0\" >0.0370955</td> \n",
       "        <td id=\"T_62e4f1f8_ecf5_11e7_af3e_f40f2429f757row11_col1\" class=\"data row11 col1\" >0</td> \n",
       "        <td id=\"T_62e4f1f8_ecf5_11e7_af3e_f40f2429f757row11_col2\" class=\"data row11 col2\" >0</td> \n",
       "        <td id=\"T_62e4f1f8_ecf5_11e7_af3e_f40f2429f757row11_col3\" class=\"data row11 col3\" >0</td> \n",
       "        <td id=\"T_62e4f1f8_ecf5_11e7_af3e_f40f2429f757row11_col4\" class=\"data row11 col4\" >0</td> \n",
       "        <td id=\"T_62e4f1f8_ecf5_11e7_af3e_f40f2429f757row11_col5\" class=\"data row11 col5\" >0</td> \n",
       "        <td id=\"T_62e4f1f8_ecf5_11e7_af3e_f40f2429f757row11_col6\" class=\"data row11 col6\" >0</td> \n",
       "        <td id=\"T_62e4f1f8_ecf5_11e7_af3e_f40f2429f757row11_col7\" class=\"data row11 col7\" >0</td> \n",
       "        <td id=\"T_62e4f1f8_ecf5_11e7_af3e_f40f2429f757row11_col8\" class=\"data row11 col8\" >0</td> \n",
       "        <td id=\"T_62e4f1f8_ecf5_11e7_af3e_f40f2429f757row11_col9\" class=\"data row11 col9\" >0</td> \n",
       "        <td id=\"T_62e4f1f8_ecf5_11e7_af3e_f40f2429f757row11_col10\" class=\"data row11 col10\" >0</td> \n",
       "        <td id=\"T_62e4f1f8_ecf5_11e7_af3e_f40f2429f757row11_col11\" class=\"data row11 col11\" >0</td> \n",
       "        <td id=\"T_62e4f1f8_ecf5_11e7_af3e_f40f2429f757row11_col12\" class=\"data row11 col12\" >0</td> \n",
       "    </tr>    <tr> \n",
       "        <th id=\"T_62e4f1f8_ecf5_11e7_af3e_f40f2429f757level0_row12\" class=\"row_heading level0 row12\" >Out C minus</th> \n",
       "        <td id=\"T_62e4f1f8_ecf5_11e7_af3e_f40f2429f757row12_col0\" class=\"data row12 col0\" >0</td> \n",
       "        <td id=\"T_62e4f1f8_ecf5_11e7_af3e_f40f2429f757row12_col1\" class=\"data row12 col1\" >0</td> \n",
       "        <td id=\"T_62e4f1f8_ecf5_11e7_af3e_f40f2429f757row12_col2\" class=\"data row12 col2\" >0</td> \n",
       "        <td id=\"T_62e4f1f8_ecf5_11e7_af3e_f40f2429f757row12_col3\" class=\"data row12 col3\" >0</td> \n",
       "        <td id=\"T_62e4f1f8_ecf5_11e7_af3e_f40f2429f757row12_col4\" class=\"data row12 col4\" >0</td> \n",
       "        <td id=\"T_62e4f1f8_ecf5_11e7_af3e_f40f2429f757row12_col5\" class=\"data row12 col5\" >0</td> \n",
       "        <td id=\"T_62e4f1f8_ecf5_11e7_af3e_f40f2429f757row12_col6\" class=\"data row12 col6\" >0.038674</td> \n",
       "        <td id=\"T_62e4f1f8_ecf5_11e7_af3e_f40f2429f757row12_col7\" class=\"data row12 col7\" >0</td> \n",
       "        <td id=\"T_62e4f1f8_ecf5_11e7_af3e_f40f2429f757row12_col8\" class=\"data row12 col8\" >0</td> \n",
       "        <td id=\"T_62e4f1f8_ecf5_11e7_af3e_f40f2429f757row12_col9\" class=\"data row12 col9\" >0</td> \n",
       "        <td id=\"T_62e4f1f8_ecf5_11e7_af3e_f40f2429f757row12_col10\" class=\"data row12 col10\" >0</td> \n",
       "        <td id=\"T_62e4f1f8_ecf5_11e7_af3e_f40f2429f757row12_col11\" class=\"data row12 col11\" >0</td> \n",
       "        <td id=\"T_62e4f1f8_ecf5_11e7_af3e_f40f2429f757row12_col12\" class=\"data row12 col12\" >0</td> \n",
       "    </tr></tbody> \n",
       "</table> "
      ],
      "text/plain": [
       "<pandas.io.formats.style.Styler at 0x10cf37990>"
      ]
     },
     "execution_count": 17,
     "metadata": {},
     "output_type": "execute_result"
    }
   ],
   "source": [
    "order = [mstis.all_ensembles[p] for p in perm]\n",
    "repx_net.transition_matrix(index_order=order).style"
   ]
  },
  {
   "cell_type": "markdown",
   "metadata": {},
   "source": [
    "### Mixing matrix\n",
    "\n",
    "Same as the transition matrix $T$, but $\\frac{1}{2}(T+T^T)$."
   ]
  },
  {
   "cell_type": "code",
   "execution_count": 18,
   "metadata": {},
   "outputs": [
    {
     "data": {
      "text/html": [
       "<style  type=\"text/css\" >\n",
       "</style>  \n",
       "<table id=\"T_62eb5e28_ecf5_11e7_bea0_f40f2429f757\" > \n",
       "<thead>    <tr> \n",
       "        <th class=\"blank level0\" ></th> \n",
       "        <th class=\"col_heading level0 col0\" >Out C minus</th> \n",
       "        <th class=\"col_heading level0 col1\" >Out A minus</th> \n",
       "        <th class=\"col_heading level0 col2\" >Out C 0</th> \n",
       "        <th class=\"col_heading level0 col3\" >Out A 0</th> \n",
       "        <th class=\"col_heading level0 col4\" >Out C 1</th> \n",
       "        <th class=\"col_heading level0 col5\" >Out A 1</th> \n",
       "        <th class=\"col_heading level0 col6\" >Out C 2</th> \n",
       "        <th class=\"col_heading level0 col7\" >Out A 2</th> \n",
       "        <th class=\"col_heading level0 col8\" >[UnionEnsemble]</th> \n",
       "        <th class=\"col_heading level0 col9\" >Out B 2</th> \n",
       "        <th class=\"col_heading level0 col10\" >Out B 1</th> \n",
       "        <th class=\"col_heading level0 col11\" >Out B 0</th> \n",
       "        <th class=\"col_heading level0 col12\" >Out B minus</th> \n",
       "    </tr></thead> \n",
       "<tbody>    <tr> \n",
       "        <th id=\"T_62eb5e28_ecf5_11e7_bea0_f40f2429f757level0_row0\" class=\"row_heading level0 row0\" >Out C minus</th> \n",
       "        <td id=\"T_62eb5e28_ecf5_11e7_bea0_f40f2429f757row0_col0\" class=\"data row0 col0\" >0</td> \n",
       "        <td id=\"T_62eb5e28_ecf5_11e7_bea0_f40f2429f757row0_col1\" class=\"data row0 col1\" >0</td> \n",
       "        <td id=\"T_62eb5e28_ecf5_11e7_bea0_f40f2429f757row0_col2\" class=\"data row0 col2\" >0.038674</td> \n",
       "        <td id=\"T_62eb5e28_ecf5_11e7_bea0_f40f2429f757row0_col3\" class=\"data row0 col3\" >0</td> \n",
       "        <td id=\"T_62eb5e28_ecf5_11e7_bea0_f40f2429f757row0_col4\" class=\"data row0 col4\" >0</td> \n",
       "        <td id=\"T_62eb5e28_ecf5_11e7_bea0_f40f2429f757row0_col5\" class=\"data row0 col5\" >0</td> \n",
       "        <td id=\"T_62eb5e28_ecf5_11e7_bea0_f40f2429f757row0_col6\" class=\"data row0 col6\" >0</td> \n",
       "        <td id=\"T_62eb5e28_ecf5_11e7_bea0_f40f2429f757row0_col7\" class=\"data row0 col7\" >0</td> \n",
       "        <td id=\"T_62eb5e28_ecf5_11e7_bea0_f40f2429f757row0_col8\" class=\"data row0 col8\" >0</td> \n",
       "        <td id=\"T_62eb5e28_ecf5_11e7_bea0_f40f2429f757row0_col9\" class=\"data row0 col9\" >0</td> \n",
       "        <td id=\"T_62eb5e28_ecf5_11e7_bea0_f40f2429f757row0_col10\" class=\"data row0 col10\" >0</td> \n",
       "        <td id=\"T_62eb5e28_ecf5_11e7_bea0_f40f2429f757row0_col11\" class=\"data row0 col11\" >0</td> \n",
       "        <td id=\"T_62eb5e28_ecf5_11e7_bea0_f40f2429f757row0_col12\" class=\"data row0 col12\" >0</td> \n",
       "    </tr>    <tr> \n",
       "        <th id=\"T_62eb5e28_ecf5_11e7_bea0_f40f2429f757level0_row1\" class=\"row_heading level0 row1\" >Out A minus</th> \n",
       "        <td id=\"T_62eb5e28_ecf5_11e7_bea0_f40f2429f757row1_col0\" class=\"data row1 col0\" >0</td> \n",
       "        <td id=\"T_62eb5e28_ecf5_11e7_bea0_f40f2429f757row1_col1\" class=\"data row1 col1\" >0</td> \n",
       "        <td id=\"T_62eb5e28_ecf5_11e7_bea0_f40f2429f757row1_col2\" class=\"data row1 col2\" >0</td> \n",
       "        <td id=\"T_62eb5e28_ecf5_11e7_bea0_f40f2429f757row1_col3\" class=\"data row1 col3\" >0.0370955</td> \n",
       "        <td id=\"T_62eb5e28_ecf5_11e7_bea0_f40f2429f757row1_col4\" class=\"data row1 col4\" >0</td> \n",
       "        <td id=\"T_62eb5e28_ecf5_11e7_bea0_f40f2429f757row1_col5\" class=\"data row1 col5\" >0</td> \n",
       "        <td id=\"T_62eb5e28_ecf5_11e7_bea0_f40f2429f757row1_col6\" class=\"data row1 col6\" >0</td> \n",
       "        <td id=\"T_62eb5e28_ecf5_11e7_bea0_f40f2429f757row1_col7\" class=\"data row1 col7\" >0</td> \n",
       "        <td id=\"T_62eb5e28_ecf5_11e7_bea0_f40f2429f757row1_col8\" class=\"data row1 col8\" >0</td> \n",
       "        <td id=\"T_62eb5e28_ecf5_11e7_bea0_f40f2429f757row1_col9\" class=\"data row1 col9\" >0</td> \n",
       "        <td id=\"T_62eb5e28_ecf5_11e7_bea0_f40f2429f757row1_col10\" class=\"data row1 col10\" >0</td> \n",
       "        <td id=\"T_62eb5e28_ecf5_11e7_bea0_f40f2429f757row1_col11\" class=\"data row1 col11\" >0</td> \n",
       "        <td id=\"T_62eb5e28_ecf5_11e7_bea0_f40f2429f757row1_col12\" class=\"data row1 col12\" >0</td> \n",
       "    </tr>    <tr> \n",
       "        <th id=\"T_62eb5e28_ecf5_11e7_bea0_f40f2429f757level0_row2\" class=\"row_heading level0 row2\" >Out C 0</th> \n",
       "        <td id=\"T_62eb5e28_ecf5_11e7_bea0_f40f2429f757row2_col0\" class=\"data row2 col0\" >0.038674</td> \n",
       "        <td id=\"T_62eb5e28_ecf5_11e7_bea0_f40f2429f757row2_col1\" class=\"data row2 col1\" >0</td> \n",
       "        <td id=\"T_62eb5e28_ecf5_11e7_bea0_f40f2429f757row2_col2\" class=\"data row2 col2\" >0</td> \n",
       "        <td id=\"T_62eb5e28_ecf5_11e7_bea0_f40f2429f757row2_col3\" class=\"data row2 col3\" >0</td> \n",
       "        <td id=\"T_62eb5e28_ecf5_11e7_bea0_f40f2429f757row2_col4\" class=\"data row2 col4\" >0.0205209</td> \n",
       "        <td id=\"T_62eb5e28_ecf5_11e7_bea0_f40f2429f757row2_col5\" class=\"data row2 col5\" >0</td> \n",
       "        <td id=\"T_62eb5e28_ecf5_11e7_bea0_f40f2429f757row2_col6\" class=\"data row2 col6\" >0</td> \n",
       "        <td id=\"T_62eb5e28_ecf5_11e7_bea0_f40f2429f757row2_col7\" class=\"data row2 col7\" >0</td> \n",
       "        <td id=\"T_62eb5e28_ecf5_11e7_bea0_f40f2429f757row2_col8\" class=\"data row2 col8\" >0</td> \n",
       "        <td id=\"T_62eb5e28_ecf5_11e7_bea0_f40f2429f757row2_col9\" class=\"data row2 col9\" >0</td> \n",
       "        <td id=\"T_62eb5e28_ecf5_11e7_bea0_f40f2429f757row2_col10\" class=\"data row2 col10\" >0</td> \n",
       "        <td id=\"T_62eb5e28_ecf5_11e7_bea0_f40f2429f757row2_col11\" class=\"data row2 col11\" >0</td> \n",
       "        <td id=\"T_62eb5e28_ecf5_11e7_bea0_f40f2429f757row2_col12\" class=\"data row2 col12\" >0</td> \n",
       "    </tr>    <tr> \n",
       "        <th id=\"T_62eb5e28_ecf5_11e7_bea0_f40f2429f757level0_row3\" class=\"row_heading level0 row3\" >Out A 0</th> \n",
       "        <td id=\"T_62eb5e28_ecf5_11e7_bea0_f40f2429f757row3_col0\" class=\"data row3 col0\" >0</td> \n",
       "        <td id=\"T_62eb5e28_ecf5_11e7_bea0_f40f2429f757row3_col1\" class=\"data row3 col1\" >0.0370955</td> \n",
       "        <td id=\"T_62eb5e28_ecf5_11e7_bea0_f40f2429f757row3_col2\" class=\"data row3 col2\" >0</td> \n",
       "        <td id=\"T_62eb5e28_ecf5_11e7_bea0_f40f2429f757row3_col3\" class=\"data row3 col3\" >0</td> \n",
       "        <td id=\"T_62eb5e28_ecf5_11e7_bea0_f40f2429f757row3_col4\" class=\"data row3 col4\" >0</td> \n",
       "        <td id=\"T_62eb5e28_ecf5_11e7_bea0_f40f2429f757row3_col5\" class=\"data row3 col5\" >0.0205209</td> \n",
       "        <td id=\"T_62eb5e28_ecf5_11e7_bea0_f40f2429f757row3_col6\" class=\"data row3 col6\" >0</td> \n",
       "        <td id=\"T_62eb5e28_ecf5_11e7_bea0_f40f2429f757row3_col7\" class=\"data row3 col7\" >0</td> \n",
       "        <td id=\"T_62eb5e28_ecf5_11e7_bea0_f40f2429f757row3_col8\" class=\"data row3 col8\" >0</td> \n",
       "        <td id=\"T_62eb5e28_ecf5_11e7_bea0_f40f2429f757row3_col9\" class=\"data row3 col9\" >0</td> \n",
       "        <td id=\"T_62eb5e28_ecf5_11e7_bea0_f40f2429f757row3_col10\" class=\"data row3 col10\" >0</td> \n",
       "        <td id=\"T_62eb5e28_ecf5_11e7_bea0_f40f2429f757row3_col11\" class=\"data row3 col11\" >0</td> \n",
       "        <td id=\"T_62eb5e28_ecf5_11e7_bea0_f40f2429f757row3_col12\" class=\"data row3 col12\" >0</td> \n",
       "    </tr>    <tr> \n",
       "        <th id=\"T_62eb5e28_ecf5_11e7_bea0_f40f2429f757level0_row4\" class=\"row_heading level0 row4\" >Out C 1</th> \n",
       "        <td id=\"T_62eb5e28_ecf5_11e7_bea0_f40f2429f757row4_col0\" class=\"data row4 col0\" >0</td> \n",
       "        <td id=\"T_62eb5e28_ecf5_11e7_bea0_f40f2429f757row4_col1\" class=\"data row4 col1\" >0</td> \n",
       "        <td id=\"T_62eb5e28_ecf5_11e7_bea0_f40f2429f757row4_col2\" class=\"data row4 col2\" >0.0205209</td> \n",
       "        <td id=\"T_62eb5e28_ecf5_11e7_bea0_f40f2429f757row4_col3\" class=\"data row4 col3\" >0</td> \n",
       "        <td id=\"T_62eb5e28_ecf5_11e7_bea0_f40f2429f757row4_col4\" class=\"data row4 col4\" >0</td> \n",
       "        <td id=\"T_62eb5e28_ecf5_11e7_bea0_f40f2429f757row4_col5\" class=\"data row4 col5\" >0</td> \n",
       "        <td id=\"T_62eb5e28_ecf5_11e7_bea0_f40f2429f757row4_col6\" class=\"data row4 col6\" >0.0489345</td> \n",
       "        <td id=\"T_62eb5e28_ecf5_11e7_bea0_f40f2429f757row4_col7\" class=\"data row4 col7\" >0</td> \n",
       "        <td id=\"T_62eb5e28_ecf5_11e7_bea0_f40f2429f757row4_col8\" class=\"data row4 col8\" >0</td> \n",
       "        <td id=\"T_62eb5e28_ecf5_11e7_bea0_f40f2429f757row4_col9\" class=\"data row4 col9\" >0</td> \n",
       "        <td id=\"T_62eb5e28_ecf5_11e7_bea0_f40f2429f757row4_col10\" class=\"data row4 col10\" >0</td> \n",
       "        <td id=\"T_62eb5e28_ecf5_11e7_bea0_f40f2429f757row4_col11\" class=\"data row4 col11\" >0</td> \n",
       "        <td id=\"T_62eb5e28_ecf5_11e7_bea0_f40f2429f757row4_col12\" class=\"data row4 col12\" >0</td> \n",
       "    </tr>    <tr> \n",
       "        <th id=\"T_62eb5e28_ecf5_11e7_bea0_f40f2429f757level0_row5\" class=\"row_heading level0 row5\" >Out A 1</th> \n",
       "        <td id=\"T_62eb5e28_ecf5_11e7_bea0_f40f2429f757row5_col0\" class=\"data row5 col0\" >0</td> \n",
       "        <td id=\"T_62eb5e28_ecf5_11e7_bea0_f40f2429f757row5_col1\" class=\"data row5 col1\" >0</td> \n",
       "        <td id=\"T_62eb5e28_ecf5_11e7_bea0_f40f2429f757row5_col2\" class=\"data row5 col2\" >0</td> \n",
       "        <td id=\"T_62eb5e28_ecf5_11e7_bea0_f40f2429f757row5_col3\" class=\"data row5 col3\" >0.0205209</td> \n",
       "        <td id=\"T_62eb5e28_ecf5_11e7_bea0_f40f2429f757row5_col4\" class=\"data row5 col4\" >0</td> \n",
       "        <td id=\"T_62eb5e28_ecf5_11e7_bea0_f40f2429f757row5_col5\" class=\"data row5 col5\" >0</td> \n",
       "        <td id=\"T_62eb5e28_ecf5_11e7_bea0_f40f2429f757row5_col6\" class=\"data row5 col6\" >0</td> \n",
       "        <td id=\"T_62eb5e28_ecf5_11e7_bea0_f40f2429f757row5_col7\" class=\"data row5 col7\" >0.0402526</td> \n",
       "        <td id=\"T_62eb5e28_ecf5_11e7_bea0_f40f2429f757row5_col8\" class=\"data row5 col8\" >0</td> \n",
       "        <td id=\"T_62eb5e28_ecf5_11e7_bea0_f40f2429f757row5_col9\" class=\"data row5 col9\" >0</td> \n",
       "        <td id=\"T_62eb5e28_ecf5_11e7_bea0_f40f2429f757row5_col10\" class=\"data row5 col10\" >0</td> \n",
       "        <td id=\"T_62eb5e28_ecf5_11e7_bea0_f40f2429f757row5_col11\" class=\"data row5 col11\" >0</td> \n",
       "        <td id=\"T_62eb5e28_ecf5_11e7_bea0_f40f2429f757row5_col12\" class=\"data row5 col12\" >0</td> \n",
       "    </tr>    <tr> \n",
       "        <th id=\"T_62eb5e28_ecf5_11e7_bea0_f40f2429f757level0_row6\" class=\"row_heading level0 row6\" >Out C 2</th> \n",
       "        <td id=\"T_62eb5e28_ecf5_11e7_bea0_f40f2429f757row6_col0\" class=\"data row6 col0\" >0</td> \n",
       "        <td id=\"T_62eb5e28_ecf5_11e7_bea0_f40f2429f757row6_col1\" class=\"data row6 col1\" >0</td> \n",
       "        <td id=\"T_62eb5e28_ecf5_11e7_bea0_f40f2429f757row6_col2\" class=\"data row6 col2\" >0</td> \n",
       "        <td id=\"T_62eb5e28_ecf5_11e7_bea0_f40f2429f757row6_col3\" class=\"data row6 col3\" >0</td> \n",
       "        <td id=\"T_62eb5e28_ecf5_11e7_bea0_f40f2429f757row6_col4\" class=\"data row6 col4\" >0.0489345</td> \n",
       "        <td id=\"T_62eb5e28_ecf5_11e7_bea0_f40f2429f757row6_col5\" class=\"data row6 col5\" >0</td> \n",
       "        <td id=\"T_62eb5e28_ecf5_11e7_bea0_f40f2429f757row6_col6\" class=\"data row6 col6\" >0</td> \n",
       "        <td id=\"T_62eb5e28_ecf5_11e7_bea0_f40f2429f757row6_col7\" class=\"data row6 col7\" >0</td> \n",
       "        <td id=\"T_62eb5e28_ecf5_11e7_bea0_f40f2429f757row6_col8\" class=\"data row6 col8\" >0.0165746</td> \n",
       "        <td id=\"T_62eb5e28_ecf5_11e7_bea0_f40f2429f757row6_col9\" class=\"data row6 col9\" >0</td> \n",
       "        <td id=\"T_62eb5e28_ecf5_11e7_bea0_f40f2429f757row6_col10\" class=\"data row6 col10\" >0</td> \n",
       "        <td id=\"T_62eb5e28_ecf5_11e7_bea0_f40f2429f757row6_col11\" class=\"data row6 col11\" >0</td> \n",
       "        <td id=\"T_62eb5e28_ecf5_11e7_bea0_f40f2429f757row6_col12\" class=\"data row6 col12\" >0</td> \n",
       "    </tr>    <tr> \n",
       "        <th id=\"T_62eb5e28_ecf5_11e7_bea0_f40f2429f757level0_row7\" class=\"row_heading level0 row7\" >Out A 2</th> \n",
       "        <td id=\"T_62eb5e28_ecf5_11e7_bea0_f40f2429f757row7_col0\" class=\"data row7 col0\" >0</td> \n",
       "        <td id=\"T_62eb5e28_ecf5_11e7_bea0_f40f2429f757row7_col1\" class=\"data row7 col1\" >0</td> \n",
       "        <td id=\"T_62eb5e28_ecf5_11e7_bea0_f40f2429f757row7_col2\" class=\"data row7 col2\" >0</td> \n",
       "        <td id=\"T_62eb5e28_ecf5_11e7_bea0_f40f2429f757row7_col3\" class=\"data row7 col3\" >0</td> \n",
       "        <td id=\"T_62eb5e28_ecf5_11e7_bea0_f40f2429f757row7_col4\" class=\"data row7 col4\" >0</td> \n",
       "        <td id=\"T_62eb5e28_ecf5_11e7_bea0_f40f2429f757row7_col5\" class=\"data row7 col5\" >0.0402526</td> \n",
       "        <td id=\"T_62eb5e28_ecf5_11e7_bea0_f40f2429f757row7_col6\" class=\"data row7 col6\" >0</td> \n",
       "        <td id=\"T_62eb5e28_ecf5_11e7_bea0_f40f2429f757row7_col7\" class=\"data row7 col7\" >0</td> \n",
       "        <td id=\"T_62eb5e28_ecf5_11e7_bea0_f40f2429f757row7_col8\" class=\"data row7 col8\" >0.0189424</td> \n",
       "        <td id=\"T_62eb5e28_ecf5_11e7_bea0_f40f2429f757row7_col9\" class=\"data row7 col9\" >0</td> \n",
       "        <td id=\"T_62eb5e28_ecf5_11e7_bea0_f40f2429f757row7_col10\" class=\"data row7 col10\" >0</td> \n",
       "        <td id=\"T_62eb5e28_ecf5_11e7_bea0_f40f2429f757row7_col11\" class=\"data row7 col11\" >0</td> \n",
       "        <td id=\"T_62eb5e28_ecf5_11e7_bea0_f40f2429f757row7_col12\" class=\"data row7 col12\" >0</td> \n",
       "    </tr>    <tr> \n",
       "        <th id=\"T_62eb5e28_ecf5_11e7_bea0_f40f2429f757level0_row8\" class=\"row_heading level0 row8\" >[UnionEnsemble]</th> \n",
       "        <td id=\"T_62eb5e28_ecf5_11e7_bea0_f40f2429f757row8_col0\" class=\"data row8 col0\" >0</td> \n",
       "        <td id=\"T_62eb5e28_ecf5_11e7_bea0_f40f2429f757row8_col1\" class=\"data row8 col1\" >0</td> \n",
       "        <td id=\"T_62eb5e28_ecf5_11e7_bea0_f40f2429f757row8_col2\" class=\"data row8 col2\" >0</td> \n",
       "        <td id=\"T_62eb5e28_ecf5_11e7_bea0_f40f2429f757row8_col3\" class=\"data row8 col3\" >0</td> \n",
       "        <td id=\"T_62eb5e28_ecf5_11e7_bea0_f40f2429f757row8_col4\" class=\"data row8 col4\" >0</td> \n",
       "        <td id=\"T_62eb5e28_ecf5_11e7_bea0_f40f2429f757row8_col5\" class=\"data row8 col5\" >0</td> \n",
       "        <td id=\"T_62eb5e28_ecf5_11e7_bea0_f40f2429f757row8_col6\" class=\"data row8 col6\" >0.0165746</td> \n",
       "        <td id=\"T_62eb5e28_ecf5_11e7_bea0_f40f2429f757row8_col7\" class=\"data row8 col7\" >0.0189424</td> \n",
       "        <td id=\"T_62eb5e28_ecf5_11e7_bea0_f40f2429f757row8_col8\" class=\"data row8 col8\" >0</td> \n",
       "        <td id=\"T_62eb5e28_ecf5_11e7_bea0_f40f2429f757row8_col9\" class=\"data row8 col9\" >0.0205209</td> \n",
       "        <td id=\"T_62eb5e28_ecf5_11e7_bea0_f40f2429f757row8_col10\" class=\"data row8 col10\" >0</td> \n",
       "        <td id=\"T_62eb5e28_ecf5_11e7_bea0_f40f2429f757row8_col11\" class=\"data row8 col11\" >0</td> \n",
       "        <td id=\"T_62eb5e28_ecf5_11e7_bea0_f40f2429f757row8_col12\" class=\"data row8 col12\" >0</td> \n",
       "    </tr>    <tr> \n",
       "        <th id=\"T_62eb5e28_ecf5_11e7_bea0_f40f2429f757level0_row9\" class=\"row_heading level0 row9\" >Out B 2</th> \n",
       "        <td id=\"T_62eb5e28_ecf5_11e7_bea0_f40f2429f757row9_col0\" class=\"data row9 col0\" >0</td> \n",
       "        <td id=\"T_62eb5e28_ecf5_11e7_bea0_f40f2429f757row9_col1\" class=\"data row9 col1\" >0</td> \n",
       "        <td id=\"T_62eb5e28_ecf5_11e7_bea0_f40f2429f757row9_col2\" class=\"data row9 col2\" >0</td> \n",
       "        <td id=\"T_62eb5e28_ecf5_11e7_bea0_f40f2429f757row9_col3\" class=\"data row9 col3\" >0</td> \n",
       "        <td id=\"T_62eb5e28_ecf5_11e7_bea0_f40f2429f757row9_col4\" class=\"data row9 col4\" >0</td> \n",
       "        <td id=\"T_62eb5e28_ecf5_11e7_bea0_f40f2429f757row9_col5\" class=\"data row9 col5\" >0</td> \n",
       "        <td id=\"T_62eb5e28_ecf5_11e7_bea0_f40f2429f757row9_col6\" class=\"data row9 col6\" >0</td> \n",
       "        <td id=\"T_62eb5e28_ecf5_11e7_bea0_f40f2429f757row9_col7\" class=\"data row9 col7\" >0</td> \n",
       "        <td id=\"T_62eb5e28_ecf5_11e7_bea0_f40f2429f757row9_col8\" class=\"data row9 col8\" >0.0205209</td> \n",
       "        <td id=\"T_62eb5e28_ecf5_11e7_bea0_f40f2429f757row9_col9\" class=\"data row9 col9\" >0</td> \n",
       "        <td id=\"T_62eb5e28_ecf5_11e7_bea0_f40f2429f757row9_col10\" class=\"data row9 col10\" >0.035517</td> \n",
       "        <td id=\"T_62eb5e28_ecf5_11e7_bea0_f40f2429f757row9_col11\" class=\"data row9 col11\" >0</td> \n",
       "        <td id=\"T_62eb5e28_ecf5_11e7_bea0_f40f2429f757row9_col12\" class=\"data row9 col12\" >0</td> \n",
       "    </tr>    <tr> \n",
       "        <th id=\"T_62eb5e28_ecf5_11e7_bea0_f40f2429f757level0_row10\" class=\"row_heading level0 row10\" >Out B 1</th> \n",
       "        <td id=\"T_62eb5e28_ecf5_11e7_bea0_f40f2429f757row10_col0\" class=\"data row10 col0\" >0</td> \n",
       "        <td id=\"T_62eb5e28_ecf5_11e7_bea0_f40f2429f757row10_col1\" class=\"data row10 col1\" >0</td> \n",
       "        <td id=\"T_62eb5e28_ecf5_11e7_bea0_f40f2429f757row10_col2\" class=\"data row10 col2\" >0</td> \n",
       "        <td id=\"T_62eb5e28_ecf5_11e7_bea0_f40f2429f757row10_col3\" class=\"data row10 col3\" >0</td> \n",
       "        <td id=\"T_62eb5e28_ecf5_11e7_bea0_f40f2429f757row10_col4\" class=\"data row10 col4\" >0</td> \n",
       "        <td id=\"T_62eb5e28_ecf5_11e7_bea0_f40f2429f757row10_col5\" class=\"data row10 col5\" >0</td> \n",
       "        <td id=\"T_62eb5e28_ecf5_11e7_bea0_f40f2429f757row10_col6\" class=\"data row10 col6\" >0</td> \n",
       "        <td id=\"T_62eb5e28_ecf5_11e7_bea0_f40f2429f757row10_col7\" class=\"data row10 col7\" >0</td> \n",
       "        <td id=\"T_62eb5e28_ecf5_11e7_bea0_f40f2429f757row10_col8\" class=\"data row10 col8\" >0</td> \n",
       "        <td id=\"T_62eb5e28_ecf5_11e7_bea0_f40f2429f757row10_col9\" class=\"data row10 col9\" >0.035517</td> \n",
       "        <td id=\"T_62eb5e28_ecf5_11e7_bea0_f40f2429f757row10_col10\" class=\"data row10 col10\" >0</td> \n",
       "        <td id=\"T_62eb5e28_ecf5_11e7_bea0_f40f2429f757row10_col11\" class=\"data row10 col11\" >0.0213102</td> \n",
       "        <td id=\"T_62eb5e28_ecf5_11e7_bea0_f40f2429f757row10_col12\" class=\"data row10 col12\" >0</td> \n",
       "    </tr>    <tr> \n",
       "        <th id=\"T_62eb5e28_ecf5_11e7_bea0_f40f2429f757level0_row11\" class=\"row_heading level0 row11\" >Out B 0</th> \n",
       "        <td id=\"T_62eb5e28_ecf5_11e7_bea0_f40f2429f757row11_col0\" class=\"data row11 col0\" >0</td> \n",
       "        <td id=\"T_62eb5e28_ecf5_11e7_bea0_f40f2429f757row11_col1\" class=\"data row11 col1\" >0</td> \n",
       "        <td id=\"T_62eb5e28_ecf5_11e7_bea0_f40f2429f757row11_col2\" class=\"data row11 col2\" >0</td> \n",
       "        <td id=\"T_62eb5e28_ecf5_11e7_bea0_f40f2429f757row11_col3\" class=\"data row11 col3\" >0</td> \n",
       "        <td id=\"T_62eb5e28_ecf5_11e7_bea0_f40f2429f757row11_col4\" class=\"data row11 col4\" >0</td> \n",
       "        <td id=\"T_62eb5e28_ecf5_11e7_bea0_f40f2429f757row11_col5\" class=\"data row11 col5\" >0</td> \n",
       "        <td id=\"T_62eb5e28_ecf5_11e7_bea0_f40f2429f757row11_col6\" class=\"data row11 col6\" >0</td> \n",
       "        <td id=\"T_62eb5e28_ecf5_11e7_bea0_f40f2429f757row11_col7\" class=\"data row11 col7\" >0</td> \n",
       "        <td id=\"T_62eb5e28_ecf5_11e7_bea0_f40f2429f757row11_col8\" class=\"data row11 col8\" >0</td> \n",
       "        <td id=\"T_62eb5e28_ecf5_11e7_bea0_f40f2429f757row11_col9\" class=\"data row11 col9\" >0</td> \n",
       "        <td id=\"T_62eb5e28_ecf5_11e7_bea0_f40f2429f757row11_col10\" class=\"data row11 col10\" >0.0213102</td> \n",
       "        <td id=\"T_62eb5e28_ecf5_11e7_bea0_f40f2429f757row11_col11\" class=\"data row11 col11\" >0</td> \n",
       "        <td id=\"T_62eb5e28_ecf5_11e7_bea0_f40f2429f757row11_col12\" class=\"data row11 col12\" >0.035517</td> \n",
       "    </tr>    <tr> \n",
       "        <th id=\"T_62eb5e28_ecf5_11e7_bea0_f40f2429f757level0_row12\" class=\"row_heading level0 row12\" >Out B minus</th> \n",
       "        <td id=\"T_62eb5e28_ecf5_11e7_bea0_f40f2429f757row12_col0\" class=\"data row12 col0\" >0</td> \n",
       "        <td id=\"T_62eb5e28_ecf5_11e7_bea0_f40f2429f757row12_col1\" class=\"data row12 col1\" >0</td> \n",
       "        <td id=\"T_62eb5e28_ecf5_11e7_bea0_f40f2429f757row12_col2\" class=\"data row12 col2\" >0</td> \n",
       "        <td id=\"T_62eb5e28_ecf5_11e7_bea0_f40f2429f757row12_col3\" class=\"data row12 col3\" >0</td> \n",
       "        <td id=\"T_62eb5e28_ecf5_11e7_bea0_f40f2429f757row12_col4\" class=\"data row12 col4\" >0</td> \n",
       "        <td id=\"T_62eb5e28_ecf5_11e7_bea0_f40f2429f757row12_col5\" class=\"data row12 col5\" >0</td> \n",
       "        <td id=\"T_62eb5e28_ecf5_11e7_bea0_f40f2429f757row12_col6\" class=\"data row12 col6\" >0</td> \n",
       "        <td id=\"T_62eb5e28_ecf5_11e7_bea0_f40f2429f757row12_col7\" class=\"data row12 col7\" >0</td> \n",
       "        <td id=\"T_62eb5e28_ecf5_11e7_bea0_f40f2429f757row12_col8\" class=\"data row12 col8\" >0</td> \n",
       "        <td id=\"T_62eb5e28_ecf5_11e7_bea0_f40f2429f757row12_col9\" class=\"data row12 col9\" >0</td> \n",
       "        <td id=\"T_62eb5e28_ecf5_11e7_bea0_f40f2429f757row12_col10\" class=\"data row12 col10\" >0</td> \n",
       "        <td id=\"T_62eb5e28_ecf5_11e7_bea0_f40f2429f757row12_col11\" class=\"data row12 col11\" >0.035517</td> \n",
       "        <td id=\"T_62eb5e28_ecf5_11e7_bea0_f40f2429f757row12_col12\" class=\"data row12 col12\" >0</td> \n",
       "    </tr></tbody> \n",
       "</table> "
      ],
      "text/plain": [
       "<pandas.io.formats.style.Styler at 0x119c75650>"
      ]
     },
     "execution_count": 18,
     "metadata": {},
     "output_type": "execute_result"
    }
   ],
   "source": [
    "repx_net.mixing_matrix().style"
   ]
  },
  {
   "cell_type": "markdown",
   "metadata": {},
   "source": [
    "### Making a pretty picture"
   ]
  },
  {
   "cell_type": "code",
   "execution_count": 19,
   "metadata": {},
   "outputs": [],
   "source": [
    "repxG = paths.ReplicaNetworkGraph(repx_net)"
   ]
  },
  {
   "cell_type": "code",
   "execution_count": 20,
   "metadata": {},
   "outputs": [
    {
     "data": {
      "image/png": "[encoded data removed]",
      "text/plain": [
       "<matplotlib.figure.Figure at 0x1128a9690>"
      ]
     },
     "metadata": {},
     "output_type": "display_data"
    }
   ],
   "source": [
    "# draw('graphviz') gives better results, but requires pygraphviz\n",
    "repxG.draw('spring')"
   ]
  },
  {
   "cell_type": "markdown",
   "metadata": {},
   "source": [
    "Blue is a minus interface, red is a normal interface. The multiple state outer interface is green."
   ]
  },
  {
   "cell_type": "code",
   "execution_count": null,
   "metadata": {},
   "outputs": [],
   "source": []
  }
 ],
 "metadata": {
  "kernelspec": {
   "display_name": "Python 2",
   "language": "python",
   "name": "python2"
  },
  "language_info": {
   "codemirror_mode": {
    "name": "ipython",
    "version": 2
   },
   "file_extension": ".py",
   "mimetype": "text/x-python",
   "name": "python",
   "nbconvert_exporter": "python",
   "pygments_lexer": "ipython2",
   "version": "2.7.14"
  }
 },
 "nbformat": 4,
 "nbformat_minor": 1
}
