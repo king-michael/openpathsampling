{
 "cells": [
  {
   "cell_type": "markdown",
   "metadata": {},
   "source": [
    "# Run from bootstrap paths\n",
    "\n",
    "Now we will use the initial trajectories we obtained from bootstrapping to run an MSTIS simulation. This will show both how objects can be regenerated from storage and how regenerated equivalent objects can be used in place of objects that weren't stored.\n",
    "\n",
    "Tasks covered in this notebook:\n",
    "* Loading OPS objects from storage\n",
    "* Ways of assigning initial trajectories to initial samples\n",
    "* Setting up a path sampling simulation with various move schemes\n",
    "* Visualizing trajectories while the path sampling is running"
   ]
  },
  {
   "cell_type": "code",
   "execution_count": 1,
   "metadata": {},
   "outputs": [],
   "source": [
    "%matplotlib inline"
   ]
  },
  {
   "cell_type": "code",
   "execution_count": 2,
   "metadata": {},
   "outputs": [],
   "source": [
    "import openpathsampling as paths\n",
    "import numpy as np\n",
    "import math\n",
    "\n",
    "# the openpathsampling OpenMM engine\n",
    "import openpathsampling.engines.openmm as eng"
   ]
  },
  {
   "cell_type": "markdown",
   "metadata": {},
   "source": [
    "### Loading things from storage\n",
    "\n",
    "First we'll reload some of the stuff we stored before. Of course, this starts with opening the file."
   ]
  },
  {
   "cell_type": "code",
   "execution_count": 3,
   "metadata": {},
   "outputs": [],
   "source": [
    "old_store = paths.AnalysisStorage(\"ala_mstis_bootstrap.nc\")"
   ]
  },
  {
   "cell_type": "markdown",
   "metadata": {},
   "source": [
    "A lot of information can be recovered from the old storage, and so we don't have the recreate it. However, we did not save our network, so we'll have to create a new one. Since the network creates the ensembles, that means we will have to translate the trajectories from the old ensembles to new ensembles."
   ]
  },
  {
   "cell_type": "code",
   "execution_count": 4,
   "metadata": {},
   "outputs": [
    {
     "name": "stdout",
     "output_type": "stream",
     "text": [
      "PathMovers: 45\n",
      "Engines: 3\n",
      "Samples: 538\n",
      "Trajectories: 509\n",
      "Ensembles: 315\n",
      "SampleSets: 502\n",
      "Snapshots: 61910\n",
      "Networks: 1\n"
     ]
    }
   ],
   "source": [
    "print(\"PathMovers:\", len(old_store.pathmovers))\n",
    "print(\"Engines:\", len(old_store.engines))\n",
    "print(\"Samples:\", len(old_store.samples))\n",
    "print(\"Trajectories:\", len(old_store.trajectories))\n",
    "print(\"Ensembles:\", len(old_store.ensembles))\n",
    "print(\"SampleSets:\", len(old_store.samplesets))\n",
    "print(\"Snapshots:\", len(old_store.snapshots))\n",
    "print(\"Networks:\", len(old_store.networks))"
   ]
  },
  {
   "cell_type": "markdown",
   "metadata": {},
   "source": [
    "Loading from storage is very easy. Each store is a list. We take the 0th snapshot as a template (it doesn't actually matter which one) for the next storage we'll create. There's only one engine stored, so we take the only one."
   ]
  },
  {
   "cell_type": "code",
   "execution_count": 5,
   "metadata": {},
   "outputs": [],
   "source": [
    "# template = old_store.snapshots[0]\n",
    "engine = old_store.engines['default']\n",
    "mstis = old_store.networks[0]\n",
    "sset = old_store.tag['sampleset']"
   ]
  },
  {
   "cell_type": "markdown",
   "metadata": {},
   "source": [
    "### initialize engine\n",
    "if we do not select a platform the fastest possible will be chosen but we explicitly request to use the one in the config file\n"
   ]
  },
  {
   "cell_type": "code",
   "execution_count": 6,
   "metadata": {},
   "outputs": [
    {
     "name": "stdout",
     "output_type": "stream",
     "text": [
      "Engine uses platform `None`\n"
     ]
    }
   ],
   "source": [
    "#platform = 'CUDA'\n",
    "#engine.initialize(platform)\n",
    "\n",
    "print('Engine uses platform `%s`' % engine.platform)"
   ]
  },
  {
   "cell_type": "code",
   "execution_count": 7,
   "metadata": {},
   "outputs": [],
   "source": [
    "sset.sanity_check()"
   ]
  },
  {
   "cell_type": "markdown",
   "metadata": {},
   "source": [
    "## Running RETIS\n",
    "\n",
    "Now we run the full calculation. Up to here, we haven't been storing any of our results. This time, we'll start a storage object, and we'll save the network we've created. Then we'll run a new `PathSampling` calculation object."
   ]
  },
  {
   "cell_type": "code",
   "execution_count": 8,
   "metadata": {},
   "outputs": [],
   "source": [
    "# logging creates ops_output.log file with details of what the calculation is doing\n",
    "#import logging.config\n",
    "#logging.config.fileConfig(\"logging.conf\", disable_existing_loggers=False)"
   ]
  },
  {
   "cell_type": "code",
   "execution_count": 9,
   "metadata": {},
   "outputs": [],
   "source": [
    "storage = paths.storage.Storage(\"ala_mstis_production.nc\", \"w\")"
   ]
  },
  {
   "cell_type": "code",
   "execution_count": 10,
   "metadata": {},
   "outputs": [],
   "source": [
    "storage.snapshots.save(old_store.snapshots[0]);"
   ]
  },
  {
   "cell_type": "markdown",
   "metadata": {},
   "source": [
    "Before we can sample we still need to set the actual `MoveScheme` which determines the\n",
    "set of moves to apply to our set of samples and effectively doing the steps in\n",
    "replica (sampleset) space. We pick the default scheme for mstis and feed it with\n",
    "the engine to be used."
   ]
  },
  {
   "cell_type": "code",
   "execution_count": 11,
   "metadata": {},
   "outputs": [],
   "source": [
    "scheme = paths.DefaultScheme(mstis, engine)"
   ]
  },
  {
   "cell_type": "markdown",
   "metadata": {},
   "source": [
    "and finally generate the `PathSampler` object to conduct the simulation."
   ]
  },
  {
   "cell_type": "code",
   "execution_count": 12,
   "metadata": {},
   "outputs": [],
   "source": [
    "mstis_calc = paths.PathSampling(\n",
    "    storage=storage,\n",
    "    sample_set=sset,\n",
    "    move_scheme=scheme\n",
    ")\n",
    "mstis_calc.save_frequency = 10\n",
    "#mstis_calc.save_frequency = 1"
   ]
  },
  {
   "cell_type": "markdown",
   "metadata": {},
   "source": [
    "Now everything is ready: let's run the simulation! The first step takes a little since all\n",
    "necessary information, i.e. the engines, topologies, initial snapshots, ..., need to be\n",
    "stored. Then the monte carlo steps will be performed."
   ]
  },
  {
   "cell_type": "code",
   "execution_count": 13,
   "metadata": {
    "scrolled": false
   },
   "outputs": [
    {
     "name": "stdout",
     "output_type": "stream",
     "text": [
      "Working on Monte Carlo cycle number 10000\n",
      "Running for 5 hours 4 minutes 56 seconds -  1.83 seconds per step\n",
      "Estimated time remaining: 1 second\n",
      "DONE! Completed 10000 Monte Carlo cycles.\n"
     ]
    }
   ],
   "source": [
    "mstis_calc.run(10000)"
   ]
  },
  {
   "cell_type": "code",
   "execution_count": 20,
   "metadata": {},
   "outputs": [
    {
     "name": "stdout",
     "output_type": "stream",
     "text": [
      "10001\n"
     ]
    }
   ],
   "source": [
    "print(len(storage.steps))"
   ]
  },
  {
   "cell_type": "code",
   "execution_count": 21,
   "metadata": {},
   "outputs": [],
   "source": [
    "# commented out during development, so we can \"run all\" and then do more\n",
    "storage.close()"
   ]
  },
  {
   "cell_type": "code",
   "execution_count": null,
   "metadata": {},
   "outputs": [],
   "source": []
  }
 ],
 "metadata": {
  "anaconda-cloud": {},
  "kernelspec": {
   "display_name": "Python 2",
   "language": "python",
   "name": "python2"
  },
  "language_info": {
   "codemirror_mode": {
    "name": "ipython",
    "version": 2
   },
   "file_extension": ".py",
   "mimetype": "text/x-python",
   "name": "python",
   "nbconvert_exporter": "python",
   "pygments_lexer": "ipython2",
   "version": "2.7.15"
  }
 },
 "nbformat": 4,
 "nbformat_minor": 1
}
